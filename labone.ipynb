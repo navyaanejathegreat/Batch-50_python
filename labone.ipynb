{
  "nbformat": 4,
  "nbformat_minor": 0,
  "metadata": {
    "colab": {
      "provenance": [],
      "toc_visible": true,
      "authorship_tag": "ABX9TyOIPKZe7h19UBZK1o3fjF0k",
      "include_colab_link": true
    },
    "kernelspec": {
      "name": "python3",
      "display_name": "Python 3"
    },
    "language_info": {
      "name": "python"
    }
  },
  "cells": [
    {
      "cell_type": "markdown",
      "metadata": {
        "id": "view-in-github",
        "colab_type": "text"
      },
      "source": [
        "<a href=\"https://colab.research.google.com/github/navyaanejathegreat/Batch-50_python/blob/main/labone.ipynb\" target=\"_parent\"><img src=\"https://colab.research.google.com/assets/colab-badge.svg\" alt=\"Open In Colab\"/></a>"
      ]
    },
    {
      "cell_type": "code",
      "source": [
        "#welcome to my first lab"
      ],
      "metadata": {
        "id": "tYGQyp8qJgyd"
      },
      "execution_count": null,
      "outputs": []
    },
    {
      "cell_type": "code",
      "source": [
        "print(\"welcome to my first lab!\")\n",
        "a=10.5\n",
        "print(type(a))\n"
      ],
      "metadata": {
        "colab": {
          "base_uri": "https://localhost:8080/"
        },
        "id": "DBozF_VgJm7l",
        "outputId": "119d489a-0db9-496c-83df-75aad541c0b5"
      },
      "execution_count": null,
      "outputs": [
        {
          "output_type": "stream",
          "name": "stdout",
          "text": [
            "welcome to my first lab!\n",
            "<class 'float'>\n"
          ]
        }
      ]
    },
    {
      "cell_type": "code",
      "source": [
        "print(\"navyaanejathegreat\")"
      ],
      "metadata": {
        "colab": {
          "base_uri": "https://localhost:8080/"
        },
        "id": "bGOl0BT-LqUu",
        "outputId": "cfb03159-9419-4120-9c2e-c2bd86a92a1c"
      },
      "execution_count": null,
      "outputs": [
        {
          "output_type": "stream",
          "name": "stdout",
          "text": [
            "navyaanejathegreat\n"
          ]
        }
      ]
    },
    {
      "cell_type": "markdown",
      "source": [
        "# STATEMENTS\n"
      ],
      "metadata": {
        "id": "lH5Fm6SpMS-G"
      }
    },
    {
      "cell_type": "code",
      "source": [
        "a=18+18\n",
        "#this is a single line statement\n",
        "print(a)\n",
        "a=10+10+\\\n",
        "    20+20+20+\\\n",
        "    30+20+10\n",
        "    #this is a multi line statement\n",
        "print(a)\n"
      ],
      "metadata": {
        "colab": {
          "base_uri": "https://localhost:8080/"
        },
        "id": "EZ9HtY2jNkS8",
        "outputId": "0a2fe786-ee1f-4bc8-b937-6005701f3235"
      },
      "execution_count": null,
      "outputs": [
        {
          "output_type": "stream",
          "name": "stdout",
          "text": [
            "36\n",
            "140\n"
          ]
        }
      ]
    },
    {
      "cell_type": "code",
      "source": [
        "a=\"navya\"\n",
        "print(a)\n",
        "a=\"navya\"+\\\n",
        "\"aneja\"+\\\n",
        "\"the\"+\\\n",
        "\"great\"\n",
        "print(a)\n"
      ],
      "metadata": {
        "colab": {
          "base_uri": "https://localhost:8080/"
        },
        "id": "iGiiGoZ9OB0r",
        "outputId": "68333e92-7d56-4c7e-90de-1008bc829f90"
      },
      "execution_count": null,
      "outputs": [
        {
          "output_type": "stream",
          "name": "stdout",
          "text": [
            "navya\n",
            "navyaanejathegreat\n"
          ]
        }
      ]
    },
    {
      "cell_type": "code",
      "source": [
        "l1=['a',\n",
        "    'e',\n",
        "    'i',\n",
        "    'o',\n",
        "    'u'\n",
        "    ]\n",
        "l1\n"
      ],
      "metadata": {
        "colab": {
          "base_uri": "https://localhost:8080/"
        },
        "id": "q53uKBkCOnoM",
        "outputId": "f6430aba-074e-4179-8faa-6ffba5916432"
      },
      "execution_count": null,
      "outputs": [
        {
          "output_type": "execute_result",
          "data": {
            "text/plain": [
              "['a', 'e', 'i', 'o', 'u']"
            ]
          },
          "metadata": {},
          "execution_count": 12
        }
      ]
    },
    {
      "cell_type": "code",
      "source": [
        "mystring=\"'my name is navya aneja' \\n 'i am a student at upes'\""
      ],
      "metadata": {
        "id": "EG-ZaP4jP2E1"
      },
      "execution_count": null,
      "outputs": []
    },
    {
      "cell_type": "code",
      "source": [
        "mystring=\"'my name is navya aneja' \\n 'i am a student at upes'\""
      ],
      "metadata": {
        "id": "dCXoO5coQXAi"
      },
      "execution_count": null,
      "outputs": []
    },
    {
      "cell_type": "code",
      "source": [],
      "metadata": {
        "id": "Yt_WIqYxQ4Z6"
      },
      "execution_count": null,
      "outputs": []
    },
    {
      "cell_type": "markdown",
      "source": [
        "# Input function\n"
      ],
      "metadata": {
        "id": "48TosjE5Q9dg"
      }
    },
    {
      "cell_type": "code",
      "source": [
        "num1=int(input(\"enter first number:\"))\n",
        "num2=int(input(\"enter second number:\"))\n",
        "sum=num1+num2\n",
        "sum"
      ],
      "metadata": {
        "colab": {
          "base_uri": "https://localhost:8080/"
        },
        "id": "RGhAQiOdRGsD",
        "outputId": "157b1d12-5e35-4ce5-bdfc-bd78c0d53733"
      },
      "execution_count": null,
      "outputs": [
        {
          "name": "stdout",
          "output_type": "stream",
          "text": [
            "enter first number:2\n",
            "enter second number:3\n"
          ]
        },
        {
          "output_type": "execute_result",
          "data": {
            "text/plain": [
              "5"
            ]
          },
          "metadata": {},
          "execution_count": 18
        }
      ]
    },
    {
      "cell_type": "code",
      "source": [
        "num1=float(input(\"enter first number:\"))\n",
        "num2=float(input(\"enter second number:\"))\n",
        "sum=num1+num2\n",
        "sum"
      ],
      "metadata": {
        "colab": {
          "base_uri": "https://localhost:8080/"
        },
        "id": "yxWniSe4RWNH",
        "outputId": "a2046264-e7b8-4a2f-dbf6-975add6f5606"
      },
      "execution_count": null,
      "outputs": [
        {
          "name": "stdout",
          "output_type": "stream",
          "text": [
            "enter first number:50\n",
            "enter second number:70\n"
          ]
        },
        {
          "output_type": "execute_result",
          "data": {
            "text/plain": [
              "120.0"
            ]
          },
          "metadata": {},
          "execution_count": 19
        }
      ]
    },
    {
      "cell_type": "code",
      "source": [
        "num1=int(input(\"enter first number:\"))\n",
        "num2=int(input(\"enter second number:\"))\n",
        "mul=num1*num2\n",
        "print(\"product is\",mul)"
      ],
      "metadata": {
        "colab": {
          "base_uri": "https://localhost:8080/"
        },
        "id": "Q_Dmfo2PSTwO",
        "outputId": "6ad6e3bb-9b86-46ae-e76c-9233c1a10650"
      },
      "execution_count": null,
      "outputs": [
        {
          "output_type": "stream",
          "name": "stdout",
          "text": [
            "enter first number:25\n",
            "enter second number:25\n",
            "product is 625\n"
          ]
        }
      ]
    },
    {
      "cell_type": "code",
      "source": [
        "num1=int(input(\"enter any integer:\"))\n",
        "num2=float(input(\"enter another integer:\"))\n",
        "mul=num1*num2\n",
        "print(\"product is\",mul)\n"
      ],
      "metadata": {
        "colab": {
          "base_uri": "https://localhost:8080/"
        },
        "id": "EBpIHBdgSk7N",
        "outputId": "1e29cdea-19c5-47be-bb4f-241b8bb20473"
      },
      "execution_count": null,
      "outputs": [
        {
          "output_type": "stream",
          "name": "stdout",
          "text": [
            "enter any integer:89\n",
            "enter another integer:2\n",
            "product is 178.0\n"
          ]
        }
      ]
    },
    {
      "cell_type": "markdown",
      "source": [
        "# BOOLEAN\n"
      ],
      "metadata": {
        "id": "Hy6i4LY9TrmF"
      }
    },
    {
      "cell_type": "code",
      "source": [
        "20==30\n"
      ],
      "metadata": {
        "colab": {
          "base_uri": "https://localhost:8080/"
        },
        "id": "r80ktF34Tuhz",
        "outputId": "e04ff0d8-5c11-4c14-d360-d9b62e0846b4"
      },
      "execution_count": null,
      "outputs": [
        {
          "output_type": "execute_result",
          "data": {
            "text/plain": [
              "False"
            ]
          },
          "metadata": {},
          "execution_count": 23
        }
      ]
    },
    {
      "cell_type": "code",
      "source": [
        "30<20"
      ],
      "metadata": {
        "colab": {
          "base_uri": "https://localhost:8080/"
        },
        "id": "rfn4-OJATwVr",
        "outputId": "1bc140b8-2579-48a5-9e1d-afafcf6161cb"
      },
      "execution_count": null,
      "outputs": [
        {
          "output_type": "execute_result",
          "data": {
            "text/plain": [
              "False"
            ]
          },
          "metadata": {},
          "execution_count": 24
        }
      ]
    },
    {
      "cell_type": "code",
      "source": [
        "30>20\n"
      ],
      "metadata": {
        "colab": {
          "base_uri": "https://localhost:8080/"
        },
        "id": "9AMsi9_FTxug",
        "outputId": "2d0cbed5-71e7-4625-e5b1-e48c01ee8e24"
      },
      "execution_count": null,
      "outputs": [
        {
          "output_type": "execute_result",
          "data": {
            "text/plain": [
              "True"
            ]
          },
          "metadata": {},
          "execution_count": 25
        }
      ]
    },
    {
      "cell_type": "markdown",
      "source": [
        "# Indentation\n"
      ],
      "metadata": {
        "id": "GYZRFDAgT-Ds"
      }
    },
    {
      "cell_type": "code",
      "source": [
        "a=10\n",
        "    print(a)"
      ],
      "metadata": {
        "colab": {
          "base_uri": "https://localhost:8080/",
          "height": 106
        },
        "id": "UOOb5HmfUEGG",
        "outputId": "2acd6369-e849-49d7-9a5b-328d2d12b9d9"
      },
      "execution_count": null,
      "outputs": [
        {
          "output_type": "error",
          "ename": "IndentationError",
          "evalue": "unexpected indent (<ipython-input-26-af5ada2b054e>, line 2)",
          "traceback": [
            "\u001b[0;36m  File \u001b[0;32m\"<ipython-input-26-af5ada2b054e>\"\u001b[0;36m, line \u001b[0;32m2\u001b[0m\n\u001b[0;31m    print(a)\u001b[0m\n\u001b[0m    ^\u001b[0m\n\u001b[0;31mIndentationError\u001b[0m\u001b[0;31m:\u001b[0m unexpected indent\n"
          ]
        }
      ]
    },
    {
      "cell_type": "code",
      "source": [
        "a=10\n",
        "print(a)\n"
      ],
      "metadata": {
        "colab": {
          "base_uri": "https://localhost:8080/"
        },
        "id": "QFjdZSutUJP4",
        "outputId": "ba06ec83-7dde-4e2d-b6d8-5ed0bed58527"
      },
      "execution_count": null,
      "outputs": [
        {
          "output_type": "stream",
          "name": "stdout",
          "text": [
            "10\n"
          ]
        }
      ]
    },
    {
      "cell_type": "markdown",
      "source": [
        "#MY SECOND LAB CLASS~"
      ],
      "metadata": {
        "id": "hjndM4FAlFsk"
      }
    },
    {
      "cell_type": "markdown",
      "source": [
        "# Arithmetic operators"
      ],
      "metadata": {
        "id": "-4QdamvgjJsq"
      }
    },
    {
      "cell_type": "markdown",
      "source": [
        "operations performed on any value to manipulate it and chnage its value\n"
      ],
      "metadata": {
        "id": "glWOu5KxjqkB"
      }
    },
    {
      "cell_type": "code",
      "source": [
        "a=10\n",
        "b=5\n",
        "print(a+b)\n",
        "print(a-b)\n",
        "print(a*b)\n",
        "print(a/b)\n",
        "print(a%b)\n",
        "print(a**b)\n",
        "print(a//b)"
      ],
      "metadata": {
        "colab": {
          "base_uri": "https://localhost:8080/"
        },
        "id": "RAUi7ycMjxqH",
        "outputId": "a36d64a9-96d9-4a08-dcf5-90114bb8840e"
      },
      "execution_count": null,
      "outputs": [
        {
          "output_type": "stream",
          "name": "stdout",
          "text": [
            "15\n",
            "5\n",
            "50\n",
            "2.0\n",
            "0\n",
            "100000\n",
            "2\n"
          ]
        }
      ]
    },
    {
      "cell_type": "code",
      "source": [
        "a=17\n",
        "b=3\n",
        "print(a//b)\n",
        "print(a/b)"
      ],
      "metadata": {
        "colab": {
          "base_uri": "https://localhost:8080/"
        },
        "id": "RVX48rbHkMtu",
        "outputId": "f979f5f4-04f4-4c32-954c-c55951fbb422"
      },
      "execution_count": null,
      "outputs": [
        {
          "output_type": "stream",
          "name": "stdout",
          "text": [
            "5\n",
            "5.666666666666667\n"
          ]
        }
      ]
    },
    {
      "cell_type": "markdown",
      "source": [
        "the double slash gives only the quotient and removes the decimal part from it"
      ],
      "metadata": {
        "id": "kaIwD8n5kx7G"
      }
    },
    {
      "cell_type": "markdown",
      "source": [
        "# Comparsion operators  \n"
      ],
      "metadata": {
        "id": "lBNnEagDlvbA"
      }
    },
    {
      "cell_type": "code",
      "source": [
        "a=10\n",
        "b=-(a)\n",
        "print(a>b)\n",
        "print(a<b)\n",
        "print(a>=b)\n",
        "print(a<=b)\n",
        "print(a==b)\n",
        "print(a!=b)"
      ],
      "metadata": {
        "colab": {
          "base_uri": "https://localhost:8080/"
        },
        "id": "a4DK4e0xmo0E",
        "outputId": "eb518142-75c4-4d34-e91e-c9390e46e9f1"
      },
      "execution_count": null,
      "outputs": [
        {
          "output_type": "stream",
          "name": "stdout",
          "text": [
            "True\n",
            "False\n",
            "True\n",
            "False\n",
            "False\n",
            "True\n"
          ]
        }
      ]
    },
    {
      "cell_type": "markdown",
      "source": [
        "BITWISE LOGIC GATE(truth table)\n",
        "\n",
        "1.     AND(&),  OR(or),XOR(^)\n",
        "\n",
        "*   00 |  000\n",
        "*   01  | 011\n",
        "*   10   | 011\n",
        "*   11   | 110\n",
        "\n",
        "\n",
        "\n",
        "\n",
        "2.  XOR operator is (a^b)\n",
        "3. shift operator (<<)\n",
        "ex a<<4\n",
        "we convert a into binary and shift all the values to the left side.\n",
        "in right shift operator the vlaues are shifted forward in right direction whne converted in binary number system.\n",
        "//these are called bitwise shift operators\n",
        "// << shifts left\n",
        "// >> shifts right\n",
        "\n"
      ],
      "metadata": {
        "id": "utHoBLbQm_Vw"
      }
    },
    {
      "cell_type": "markdown",
      "source": [
        "# Logical Operators"
      ],
      "metadata": {
        "id": "YxEmB72Xq9rt"
      }
    },
    {
      "cell_type": "markdown",
      "source": [
        "when we want a relation between two operands or expressions\n"
      ],
      "metadata": {
        "id": "5OcE_rphrn6G"
      }
    },
    {
      "cell_type": "code",
      "source": [
        "a=10\n",
        "b=5\n",
        "if(a>b and a==b):\n",
        "    print(\"success\")\n",
        "else:\n",
        "    print(\"fail\")\n",
        "    #here and is a logical operator\n",
        "    #if we use or in place of and, it will also be a logical operator\n",
        "    #xor is also a logical operator than can be used"
      ],
      "metadata": {
        "colab": {
          "base_uri": "https://localhost:8080/"
        },
        "id": "XGSBKWMVruuD",
        "outputId": "0f9f3d66-760d-4c39-a659-f2241c7939eb"
      },
      "execution_count": null,
      "outputs": [
        {
          "output_type": "stream",
          "name": "stdout",
          "text": [
            "fail\n"
          ]
        }
      ]
    },
    {
      "cell_type": "markdown",
      "source": [
        "Relation operator\n",
        "if we say\n",
        "a=10 and b=5\n",
        "and say c=a>b\n",
        "which is true, here c will store the relation as true this is referred to as a relational expression and operator"
      ],
      "metadata": {
        "id": "fx-DttC-t9XE"
      }
    },
    {
      "cell_type": "markdown",
      "source": [
        "ques\n",
        "\n",
        "\n",
        "write a program to use input function and take two variables, store two numbers and ask the user what kind of arithmetic operator they wish to perform"
      ],
      "metadata": {
        "id": "NMe_DbrBuhsS"
      }
    },
    {
      "cell_type": "code",
      "source": [
        "num1= int(input(\"enter any integer here:\"))\n",
        "num2=int(input(\"enter another integer here:\"))\n",
        "op=input(\"enter the operator here:\")\n",
        "if (op=='+'):\n",
        "    print(\"the sum is:\",num1+num2)\n",
        "elif(op=='-'):\n",
        "    print(\"the difference is:\",num1-num2)\n",
        "elif(op=='*'):\n",
        "    print(\"the product is:\",num1*num2)\n",
        "elif(op=='/'):\n",
        "    print(\"the quotient is:\",num1/num2)\n",
        "elif(op=='%'):\n",
        "    print(\"the remainder is\",num1%num2)"
      ],
      "metadata": {
        "colab": {
          "base_uri": "https://localhost:8080/"
        },
        "id": "S1q3dcGque8l",
        "outputId": "c48e41e0-5308-47dd-a404-dc5ce27137eb"
      },
      "execution_count": null,
      "outputs": [
        {
          "output_type": "stream",
          "name": "stdout",
          "text": [
            "enter any integer here:55\n",
            "enter another integer here:5\n",
            "enter the operator here:*\n",
            "the product is: 275\n"
          ]
        }
      ]
    },
    {
      "cell_type": "code",
      "source": [
        "a=10\n",
        "b=a+a\n",
        "c=a+b\n",
        "a\n",
        "b\n",
        "c"
      ],
      "metadata": {
        "id": "n345ema4xmuH",
        "colab": {
          "base_uri": "https://localhost:8080/"
        },
        "outputId": "b0459db1-04b1-490e-e923-706551ca24cf"
      },
      "execution_count": 1,
      "outputs": [
        {
          "output_type": "execute_result",
          "data": {
            "text/plain": [
              "30"
            ]
          },
          "metadata": {},
          "execution_count": 1
        }
      ]
    },
    {
      "cell_type": "markdown",
      "source": [],
      "metadata": {
        "id": "tvVTSv4OBNwZ"
      }
    },
    {
      "cell_type": "markdown",
      "source": [
        "# CONTROL STATEMENTS"
      ],
      "metadata": {
        "id": "B5Gfta-zA__4"
      }
    },
    {
      "cell_type": "markdown",
      "source": [
        "1. IF STATEMENT:\n",
        "syntax-\n",
        "\n",
        "if expression:\n",
        "\n",
        "   statements\n",
        "\n"
      ],
      "metadata": {
        "id": "qIhWQcWEBuhp"
      }
    },
    {
      "cell_type": "code",
      "source": [
        "x=10\n",
        "if x<=10:\n",
        "    print(\"hello\")\n",
        "    x=x+1\n",
        "print(\"done\")\n"
      ],
      "metadata": {
        "colab": {
          "base_uri": "https://localhost:8080/"
        },
        "id": "Z2ixbgzqCOme",
        "outputId": "f6a6f05a-65a9-4218-fe4e-4972a9f2f290"
      },
      "execution_count": 2,
      "outputs": [
        {
          "output_type": "stream",
          "name": "stdout",
          "text": [
            "hello\n",
            "done\n"
          ]
        }
      ]
    },
    {
      "cell_type": "code",
      "source": [
        "x=10\n",
        "if x>0:\n",
        "    print(\"hello\")\n",
        "    x=x+1\n",
        "print(\"done\")\n"
      ],
      "metadata": {
        "colab": {
          "base_uri": "https://localhost:8080/"
        },
        "id": "c-vMMEvECx4S",
        "outputId": "0f91472e-2ea0-4cb5-8b63-5965eb764454"
      },
      "execution_count": 3,
      "outputs": [
        {
          "output_type": "stream",
          "name": "stdout",
          "text": [
            "hello\n",
            "done\n"
          ]
        }
      ]
    },
    {
      "cell_type": "code",
      "source": [
        "temp=int(input(\"Enter today's temperature:\"))\n",
        "if temp >30:\n",
        "    print(\"It is a hot day\")\n",
        "    print(\"Drink plenty of water\")\n",
        "elif temp>20 and temp<=30:\n",
        "    print(\"It is a good day\")\n",
        "elif temp>10 and temp<=20:\n",
        "    print(\"It is a bit colder\")\n",
        "else:\n",
        "    print(\"Enjoy\")\n"
      ],
      "metadata": {
        "colab": {
          "base_uri": "https://localhost:8080/"
        },
        "id": "kpPWLbd4DHET",
        "outputId": "0f9bf911-a61d-48ca-d9a0-d4305ce7da2f"
      },
      "execution_count": 5,
      "outputs": [
        {
          "output_type": "stream",
          "name": "stdout",
          "text": [
            "Enter today's temperature:20\n",
            "It is a bit colder\n"
          ]
        }
      ]
    },
    {
      "cell_type": "code",
      "source": [
        "temp=int(input(\"Enter today's temperature:\"))\n",
        "if temp >30:\n",
        "    print(\"It is a hot day\")\n",
        "    print(\"Drink plenty of water\")\n",
        "elif temp>20:\n",
        "    print(\"It is a good day\")\n",
        "elif temp>10:\n",
        "    print(\"It is a bit colder\")\n",
        "else:\n",
        "    print(\"Enjoy\")\n"
      ],
      "metadata": {
        "colab": {
          "base_uri": "https://localhost:8080/"
        },
        "id": "zvI1vNEdEn2b",
        "outputId": "f1d3e436-8755-4fe0-ac2a-2f7cf4fd652b"
      },
      "execution_count": 9,
      "outputs": [
        {
          "output_type": "stream",
          "name": "stdout",
          "text": [
            "Enter today's temperature:15\n",
            "It is a bit colder\n"
          ]
        }
      ]
    },
    {
      "cell_type": "code",
      "source": [
        "weight=int(input(\"Enter your weight: \"))\n",
        "unit=input(\"kgs/lbs :\")\n",
        "if unit=='kgs':\n",
        "    lbs=weight*2.2\n",
        "    print(\"Your weight in lbs is:\",lbs)\n",
        "else:\n",
        "   kgs=weight*0.45\n",
        "   print(\"your weight in kgs is:\",kgs)\n"
      ],
      "metadata": {
        "colab": {
          "base_uri": "https://localhost:8080/"
        },
        "id": "xxD5tXvRFWhR",
        "outputId": "064d7c7f-141a-4c4a-c55f-12c9ccc44e92"
      },
      "execution_count": 12,
      "outputs": [
        {
          "output_type": "stream",
          "name": "stdout",
          "text": [
            "Enter your weight: 53\n",
            "kgs/lbs :lbs\n",
            "your weight in kgs is: 23.85\n"
          ]
        }
      ]
    },
    {
      "cell_type": "code",
      "source": [],
      "metadata": {
        "id": "9geYlEqoHDoV"
      },
      "execution_count": null,
      "outputs": []
    }
  ]
}