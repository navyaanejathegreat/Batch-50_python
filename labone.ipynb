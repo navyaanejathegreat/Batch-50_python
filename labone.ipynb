{
  "nbformat": 4,
  "nbformat_minor": 0,
  "metadata": {
    "colab": {
      "provenance": [],
      "toc_visible": true,
      "authorship_tag": "ABX9TyNouaxe+vQ3PlTRyVU7phNb",
      "include_colab_link": true
    },
    "kernelspec": {
      "name": "python3",
      "display_name": "Python 3"
    },
    "language_info": {
      "name": "python"
    }
  },
  "cells": [
    {
      "cell_type": "markdown",
      "metadata": {
        "id": "view-in-github",
        "colab_type": "text"
      },
      "source": [
        "<a href=\"https://colab.research.google.com/github/navyaanejathegreat/Batch-50_python/blob/main/labone.ipynb\" target=\"_parent\"><img src=\"https://colab.research.google.com/assets/colab-badge.svg\" alt=\"Open In Colab\"/></a>"
      ]
    },
    {
      "cell_type": "code",
      "source": [
        "#welcome to my first lab"
      ],
      "metadata": {
        "id": "tYGQyp8qJgyd"
      },
      "execution_count": null,
      "outputs": []
    },
    {
      "cell_type": "code",
      "source": [
        "print(\"welcome to my first lab!\")\n",
        "a=10.5\n",
        "print(type(a))\n"
      ],
      "metadata": {
        "colab": {
          "base_uri": "https://localhost:8080/"
        },
        "id": "DBozF_VgJm7l",
        "outputId": "119d489a-0db9-496c-83df-75aad541c0b5"
      },
      "execution_count": 4,
      "outputs": [
        {
          "output_type": "stream",
          "name": "stdout",
          "text": [
            "welcome to my first lab!\n",
            "<class 'float'>\n"
          ]
        }
      ]
    },
    {
      "cell_type": "code",
      "source": [
        "print(\"navyaanejathegreat\")"
      ],
      "metadata": {
        "colab": {
          "base_uri": "https://localhost:8080/"
        },
        "id": "bGOl0BT-LqUu",
        "outputId": "cfb03159-9419-4120-9c2e-c2bd86a92a1c"
      },
      "execution_count": 5,
      "outputs": [
        {
          "output_type": "stream",
          "name": "stdout",
          "text": [
            "navyaanejathegreat\n"
          ]
        }
      ]
    },
    {
      "cell_type": "markdown",
      "source": [
        "# STATEMENTS\n"
      ],
      "metadata": {
        "id": "lH5Fm6SpMS-G"
      }
    },
    {
      "cell_type": "code",
      "source": [
        "a=18+18\n",
        "#this is a single line statement\n",
        "print(a)\n",
        "a=10+10+\\\n",
        "    20+20+20+\\\n",
        "    30+20+10\n",
        "    #this is a multi line statement\n",
        "print(a)\n"
      ],
      "metadata": {
        "colab": {
          "base_uri": "https://localhost:8080/"
        },
        "id": "EZ9HtY2jNkS8",
        "outputId": "0a2fe786-ee1f-4bc8-b937-6005701f3235"
      },
      "execution_count": 9,
      "outputs": [
        {
          "output_type": "stream",
          "name": "stdout",
          "text": [
            "36\n",
            "140\n"
          ]
        }
      ]
    },
    {
      "cell_type": "code",
      "source": [
        "a=\"navya\"\n",
        "print(a)\n",
        "a=\"navya\"+\\\n",
        "\"aneja\"+\\\n",
        "\"the\"+\\\n",
        "\"great\"\n",
        "print(a)\n"
      ],
      "metadata": {
        "colab": {
          "base_uri": "https://localhost:8080/"
        },
        "id": "iGiiGoZ9OB0r",
        "outputId": "68333e92-7d56-4c7e-90de-1008bc829f90"
      },
      "execution_count": 10,
      "outputs": [
        {
          "output_type": "stream",
          "name": "stdout",
          "text": [
            "navya\n",
            "navyaanejathegreat\n"
          ]
        }
      ]
    },
    {
      "cell_type": "code",
      "source": [
        "l1=['a',\n",
        "    'e',\n",
        "    'i',\n",
        "    'o',\n",
        "    'u'\n",
        "    ]\n",
        "l1\n"
      ],
      "metadata": {
        "colab": {
          "base_uri": "https://localhost:8080/"
        },
        "id": "q53uKBkCOnoM",
        "outputId": "f6430aba-074e-4179-8faa-6ffba5916432"
      },
      "execution_count": 12,
      "outputs": [
        {
          "output_type": "execute_result",
          "data": {
            "text/plain": [
              "['a', 'e', 'i', 'o', 'u']"
            ]
          },
          "metadata": {},
          "execution_count": 12
        }
      ]
    },
    {
      "cell_type": "code",
      "source": [],
      "metadata": {
        "id": "EG-ZaP4jP2E1"
      },
      "execution_count": null,
      "outputs": []
    }
  ]
}