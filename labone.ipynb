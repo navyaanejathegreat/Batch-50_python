{
  "cells": [
    {
      "cell_type": "markdown",
      "metadata": {
        "id": "view-in-github",
        "colab_type": "text"
      },
      "source": [
        "<a href=\"https://colab.research.google.com/github/navyaanejathegreat/Batch-50_python/blob/main/labone.ipynb\" target=\"_parent\"><img src=\"https://colab.research.google.com/assets/colab-badge.svg\" alt=\"Open In Colab\"/></a>"
      ]
    },
    {
      "cell_type": "code",
      "execution_count": null,
      "metadata": {
        "id": "tYGQyp8qJgyd"
      },
      "outputs": [],
      "source": [
        "#welcome to my first lab"
      ]
    },
    {
      "cell_type": "code",
      "execution_count": null,
      "metadata": {
        "colab": {
          "base_uri": "https://localhost:8080/"
        },
        "id": "DBozF_VgJm7l",
        "outputId": "119d489a-0db9-496c-83df-75aad541c0b5"
      },
      "outputs": [
        {
          "name": "stdout",
          "output_type": "stream",
          "text": [
            "welcome to my first lab!\n",
            "<class 'float'>\n"
          ]
        }
      ],
      "source": [
        "print(\"welcome to my first lab!\")\n",
        "a=10.5\n",
        "print(type(a))\n"
      ]
    },
    {
      "cell_type": "code",
      "execution_count": null,
      "metadata": {
        "colab": {
          "base_uri": "https://localhost:8080/"
        },
        "id": "bGOl0BT-LqUu",
        "outputId": "cfb03159-9419-4120-9c2e-c2bd86a92a1c"
      },
      "outputs": [
        {
          "name": "stdout",
          "output_type": "stream",
          "text": [
            "navyaanejathegreat\n"
          ]
        }
      ],
      "source": [
        "print(\"navyaanejathegreat\")"
      ]
    },
    {
      "cell_type": "markdown",
      "metadata": {
        "id": "lH5Fm6SpMS-G"
      },
      "source": [
        "# STATEMENTS\n"
      ]
    },
    {
      "cell_type": "code",
      "execution_count": null,
      "metadata": {
        "colab": {
          "base_uri": "https://localhost:8080/"
        },
        "id": "EZ9HtY2jNkS8",
        "outputId": "0a2fe786-ee1f-4bc8-b937-6005701f3235"
      },
      "outputs": [
        {
          "name": "stdout",
          "output_type": "stream",
          "text": [
            "36\n",
            "140\n"
          ]
        }
      ],
      "source": [
        "a=18+18\n",
        "#this is a single line statement\n",
        "print(a)\n",
        "a=10+10+\\\n",
        "    20+20+20+\\\n",
        "    30+20+10\n",
        "    #this is a multi line statement\n",
        "print(a)\n"
      ]
    },
    {
      "cell_type": "code",
      "execution_count": null,
      "metadata": {
        "colab": {
          "base_uri": "https://localhost:8080/"
        },
        "id": "iGiiGoZ9OB0r",
        "outputId": "68333e92-7d56-4c7e-90de-1008bc829f90"
      },
      "outputs": [
        {
          "name": "stdout",
          "output_type": "stream",
          "text": [
            "navya\n",
            "navyaanejathegreat\n"
          ]
        }
      ],
      "source": [
        "a=\"navya\"\n",
        "print(a)\n",
        "a=\"navya\"+\\\n",
        "\"aneja\"+\\\n",
        "\"the\"+\\\n",
        "\"great\"\n",
        "print(a)\n"
      ]
    },
    {
      "cell_type": "code",
      "execution_count": null,
      "metadata": {
        "colab": {
          "base_uri": "https://localhost:8080/"
        },
        "id": "q53uKBkCOnoM",
        "outputId": "f6430aba-074e-4179-8faa-6ffba5916432"
      },
      "outputs": [
        {
          "data": {
            "text/plain": [
              "['a', 'e', 'i', 'o', 'u']"
            ]
          },
          "execution_count": 12,
          "metadata": {},
          "output_type": "execute_result"
        }
      ],
      "source": [
        "l1=['a',\n",
        "    'e',\n",
        "    'i',\n",
        "    'o',\n",
        "    'u'\n",
        "    ]\n",
        "l1\n"
      ]
    },
    {
      "cell_type": "code",
      "execution_count": null,
      "metadata": {
        "id": "EG-ZaP4jP2E1"
      },
      "outputs": [],
      "source": [
        "mystring=\"'my name is navya aneja' \\n 'i am a student at upes'\""
      ]
    },
    {
      "cell_type": "code",
      "execution_count": null,
      "metadata": {
        "id": "dCXoO5coQXAi"
      },
      "outputs": [],
      "source": [
        "mystring=\"'my name is navya aneja' \\n 'i am a student at upes'\""
      ]
    },
    {
      "cell_type": "code",
      "execution_count": null,
      "metadata": {
        "id": "Yt_WIqYxQ4Z6"
      },
      "outputs": [],
      "source": []
    },
    {
      "cell_type": "markdown",
      "metadata": {
        "id": "48TosjE5Q9dg"
      },
      "source": [
        "# Input function\n"
      ]
    },
    {
      "cell_type": "code",
      "execution_count": null,
      "metadata": {
        "colab": {
          "base_uri": "https://localhost:8080/"
        },
        "id": "RGhAQiOdRGsD",
        "outputId": "157b1d12-5e35-4ce5-bdfc-bd78c0d53733"
      },
      "outputs": [
        {
          "name": "stdout",
          "output_type": "stream",
          "text": [
            "enter first number:2\n",
            "enter second number:3\n"
          ]
        },
        {
          "data": {
            "text/plain": [
              "5"
            ]
          },
          "execution_count": 18,
          "metadata": {},
          "output_type": "execute_result"
        }
      ],
      "source": [
        "num1=int(input(\"enter first number:\"))\n",
        "num2=int(input(\"enter second number:\"))\n",
        "sum=num1+num2\n",
        "sum"
      ]
    },
    {
      "cell_type": "code",
      "execution_count": null,
      "metadata": {
        "colab": {
          "base_uri": "https://localhost:8080/"
        },
        "id": "yxWniSe4RWNH",
        "outputId": "a2046264-e7b8-4a2f-dbf6-975add6f5606"
      },
      "outputs": [
        {
          "name": "stdout",
          "output_type": "stream",
          "text": [
            "enter first number:50\n",
            "enter second number:70\n"
          ]
        },
        {
          "data": {
            "text/plain": [
              "120.0"
            ]
          },
          "execution_count": 19,
          "metadata": {},
          "output_type": "execute_result"
        }
      ],
      "source": [
        "num1=float(input(\"enter first number:\"))\n",
        "num2=float(input(\"enter second number:\"))\n",
        "sum=num1+num2\n",
        "sum"
      ]
    },
    {
      "cell_type": "code",
      "execution_count": null,
      "metadata": {
        "colab": {
          "base_uri": "https://localhost:8080/"
        },
        "id": "Q_Dmfo2PSTwO",
        "outputId": "6ad6e3bb-9b86-46ae-e76c-9233c1a10650"
      },
      "outputs": [
        {
          "name": "stdout",
          "output_type": "stream",
          "text": [
            "enter first number:25\n",
            "enter second number:25\n",
            "product is 625\n"
          ]
        }
      ],
      "source": [
        "num1=int(input(\"enter first number:\"))\n",
        "num2=int(input(\"enter second number:\"))\n",
        "mul=num1*num2\n",
        "print(\"product is\",mul)"
      ]
    },
    {
      "cell_type": "code",
      "execution_count": null,
      "metadata": {
        "colab": {
          "base_uri": "https://localhost:8080/"
        },
        "id": "EBpIHBdgSk7N",
        "outputId": "1e29cdea-19c5-47be-bb4f-241b8bb20473"
      },
      "outputs": [
        {
          "name": "stdout",
          "output_type": "stream",
          "text": [
            "enter any integer:89\n",
            "enter another integer:2\n",
            "product is 178.0\n"
          ]
        }
      ],
      "source": [
        "num1=int(input(\"enter any integer:\"))\n",
        "num2=float(input(\"enter another integer:\"))\n",
        "mul=num1*num2\n",
        "print(\"product is\",mul)\n"
      ]
    },
    {
      "cell_type": "markdown",
      "metadata": {
        "id": "Hy6i4LY9TrmF"
      },
      "source": [
        "# BOOLEAN\n"
      ]
    },
    {
      "cell_type": "code",
      "execution_count": null,
      "metadata": {
        "colab": {
          "base_uri": "https://localhost:8080/"
        },
        "id": "r80ktF34Tuhz",
        "outputId": "e04ff0d8-5c11-4c14-d360-d9b62e0846b4"
      },
      "outputs": [
        {
          "data": {
            "text/plain": [
              "False"
            ]
          },
          "execution_count": 23,
          "metadata": {},
          "output_type": "execute_result"
        }
      ],
      "source": [
        "20==30\n"
      ]
    },
    {
      "cell_type": "code",
      "execution_count": null,
      "metadata": {
        "colab": {
          "base_uri": "https://localhost:8080/"
        },
        "id": "rfn4-OJATwVr",
        "outputId": "1bc140b8-2579-48a5-9e1d-afafcf6161cb"
      },
      "outputs": [
        {
          "data": {
            "text/plain": [
              "False"
            ]
          },
          "execution_count": 24,
          "metadata": {},
          "output_type": "execute_result"
        }
      ],
      "source": [
        "30<20"
      ]
    },
    {
      "cell_type": "code",
      "execution_count": null,
      "metadata": {
        "colab": {
          "base_uri": "https://localhost:8080/"
        },
        "id": "9AMsi9_FTxug",
        "outputId": "2d0cbed5-71e7-4625-e5b1-e48c01ee8e24"
      },
      "outputs": [
        {
          "data": {
            "text/plain": [
              "True"
            ]
          },
          "execution_count": 25,
          "metadata": {},
          "output_type": "execute_result"
        }
      ],
      "source": [
        "30>20\n"
      ]
    },
    {
      "cell_type": "markdown",
      "metadata": {
        "id": "GYZRFDAgT-Ds"
      },
      "source": [
        "# Indentation\n"
      ]
    },
    {
      "cell_type": "code",
      "execution_count": null,
      "metadata": {
        "colab": {
          "base_uri": "https://localhost:8080/",
          "height": 106
        },
        "id": "UOOb5HmfUEGG",
        "outputId": "2acd6369-e849-49d7-9a5b-328d2d12b9d9"
      },
      "outputs": [
        {
          "ename": "IndentationError",
          "evalue": "unexpected indent (<ipython-input-26-af5ada2b054e>, line 2)",
          "output_type": "error",
          "traceback": [
            "\u001b[0;36m  File \u001b[0;32m\"<ipython-input-26-af5ada2b054e>\"\u001b[0;36m, line \u001b[0;32m2\u001b[0m\n\u001b[0;31m    print(a)\u001b[0m\n\u001b[0m    ^\u001b[0m\n\u001b[0;31mIndentationError\u001b[0m\u001b[0;31m:\u001b[0m unexpected indent\n"
          ]
        }
      ],
      "source": [
        "a=10\n",
        "    print(a)"
      ]
    },
    {
      "cell_type": "code",
      "execution_count": null,
      "metadata": {
        "colab": {
          "base_uri": "https://localhost:8080/"
        },
        "id": "QFjdZSutUJP4",
        "outputId": "ba06ec83-7dde-4e2d-b6d8-5ed0bed58527"
      },
      "outputs": [
        {
          "name": "stdout",
          "output_type": "stream",
          "text": [
            "10\n"
          ]
        }
      ],
      "source": [
        "a=10\n",
        "print(a)\n"
      ]
    },
    {
      "cell_type": "markdown",
      "metadata": {
        "id": "hjndM4FAlFsk"
      },
      "source": [
        "#MY SECOND LAB CLASS~"
      ]
    },
    {
      "cell_type": "markdown",
      "metadata": {
        "id": "-4QdamvgjJsq"
      },
      "source": [
        "# Arithmetic operators"
      ]
    },
    {
      "cell_type": "markdown",
      "metadata": {
        "id": "glWOu5KxjqkB"
      },
      "source": [
        "operations performed on any value to manipulate it and chnage its value\n"
      ]
    },
    {
      "cell_type": "code",
      "execution_count": null,
      "metadata": {
        "colab": {
          "base_uri": "https://localhost:8080/"
        },
        "id": "RAUi7ycMjxqH",
        "outputId": "a36d64a9-96d9-4a08-dcf5-90114bb8840e"
      },
      "outputs": [
        {
          "name": "stdout",
          "output_type": "stream",
          "text": [
            "15\n",
            "5\n",
            "50\n",
            "2.0\n",
            "0\n",
            "100000\n",
            "2\n"
          ]
        }
      ],
      "source": [
        "a=10\n",
        "b=5\n",
        "print(a+b)\n",
        "print(a-b)\n",
        "print(a*b)\n",
        "print(a/b)\n",
        "print(a%b)\n",
        "print(a**b)\n",
        "print(a//b)"
      ]
    },
    {
      "cell_type": "code",
      "execution_count": null,
      "metadata": {
        "colab": {
          "base_uri": "https://localhost:8080/"
        },
        "id": "RVX48rbHkMtu",
        "outputId": "f979f5f4-04f4-4c32-954c-c55951fbb422"
      },
      "outputs": [
        {
          "name": "stdout",
          "output_type": "stream",
          "text": [
            "5\n",
            "5.666666666666667\n"
          ]
        }
      ],
      "source": [
        "a=17\n",
        "b=3\n",
        "print(a//b)\n",
        "print(a/b)"
      ]
    },
    {
      "cell_type": "markdown",
      "metadata": {
        "id": "kaIwD8n5kx7G"
      },
      "source": [
        "the double slash gives only the quotient and removes the decimal part from it"
      ]
    },
    {
      "cell_type": "markdown",
      "metadata": {
        "id": "lBNnEagDlvbA"
      },
      "source": [
        "# Comparsion operators  \n"
      ]
    },
    {
      "cell_type": "code",
      "execution_count": null,
      "metadata": {
        "colab": {
          "base_uri": "https://localhost:8080/"
        },
        "id": "a4DK4e0xmo0E",
        "outputId": "eb518142-75c4-4d34-e91e-c9390e46e9f1"
      },
      "outputs": [
        {
          "name": "stdout",
          "output_type": "stream",
          "text": [
            "True\n",
            "False\n",
            "True\n",
            "False\n",
            "False\n",
            "True\n"
          ]
        }
      ],
      "source": [
        "a=10\n",
        "b=-(a)\n",
        "print(a>b)\n",
        "print(a<b)\n",
        "print(a>=b)\n",
        "print(a<=b)\n",
        "print(a==b)\n",
        "print(a!=b)"
      ]
    },
    {
      "cell_type": "markdown",
      "metadata": {
        "id": "utHoBLbQm_Vw"
      },
      "source": [
        "BITWISE LOGIC GATE(truth table)\n",
        "\n",
        "1.     AND(&),  OR(or),XOR(^)\n",
        "\n",
        "*   00 |  000\n",
        "*   01  | 011\n",
        "*   10   | 011\n",
        "*   11   | 110\n",
        "\n",
        "\n",
        "\n",
        "\n",
        "2.  XOR operator is (a^b)\n",
        "3. shift operator (<<)\n",
        "ex a<<4\n",
        "we convert a into binary and shift all the values to the left side.\n",
        "in right shift operator the vlaues are shifted forward in right direction whne converted in binary number system.\n",
        "//these are called bitwise shift operators\n",
        "// << shifts left\n",
        "// >> shifts right\n",
        "\n"
      ]
    },
    {
      "cell_type": "markdown",
      "metadata": {
        "id": "YxEmB72Xq9rt"
      },
      "source": [
        "# Logical Operators"
      ]
    },
    {
      "cell_type": "markdown",
      "metadata": {
        "id": "5OcE_rphrn6G"
      },
      "source": [
        "when we want a relation between two operands or expressions\n"
      ]
    },
    {
      "cell_type": "code",
      "execution_count": null,
      "metadata": {
        "colab": {
          "base_uri": "https://localhost:8080/"
        },
        "id": "XGSBKWMVruuD",
        "outputId": "0f9f3d66-760d-4c39-a659-f2241c7939eb"
      },
      "outputs": [
        {
          "name": "stdout",
          "output_type": "stream",
          "text": [
            "fail\n"
          ]
        }
      ],
      "source": [
        "a=10\n",
        "b=5\n",
        "if(a>b and a==b):\n",
        "    print(\"success\")\n",
        "else:\n",
        "    print(\"fail\")\n",
        "    #here and is a logical operator\n",
        "    #if we use or in place of and, it will also be a logical operator\n",
        "    #xor is also a logical operator than can be used"
      ]
    },
    {
      "cell_type": "markdown",
      "metadata": {
        "id": "fx-DttC-t9XE"
      },
      "source": [
        "Relation operator\n",
        "if we say\n",
        "a=10 and b=5\n",
        "and say c=a>b\n",
        "which is true, here c will store the relation as true this is referred to as a relational expression and operator"
      ]
    },
    {
      "cell_type": "markdown",
      "metadata": {
        "id": "NMe_DbrBuhsS"
      },
      "source": [
        "ques\n",
        "\n",
        "\n",
        "write a program to use input function and take two variables, store two numbers and ask the user what kind of arithmetic operator they wish to perform"
      ]
    },
    {
      "cell_type": "code",
      "execution_count": null,
      "metadata": {
        "colab": {
          "base_uri": "https://localhost:8080/"
        },
        "id": "S1q3dcGque8l",
        "outputId": "c48e41e0-5308-47dd-a404-dc5ce27137eb"
      },
      "outputs": [
        {
          "name": "stdout",
          "output_type": "stream",
          "text": [
            "enter any integer here:55\n",
            "enter another integer here:5\n",
            "enter the operator here:*\n",
            "the product is: 275\n"
          ]
        }
      ],
      "source": [
        "num1= int(input(\"enter any integer here:\"))\n",
        "num2=int(input(\"enter another integer here:\"))\n",
        "op=input(\"enter the operator here:\")\n",
        "if (op=='+'):\n",
        "    print(\"the sum is:\",num1+num2)\n",
        "elif(op=='-'):\n",
        "    print(\"the difference is:\",num1-num2)\n",
        "elif(op=='*'):\n",
        "    print(\"the product is:\",num1*num2)\n",
        "elif(op=='/'):\n",
        "    print(\"the quotient is:\",num1/num2)\n",
        "elif(op=='%'):\n",
        "    print(\"the remainder is\",num1%num2)"
      ]
    },
    {
      "cell_type": "code",
      "execution_count": null,
      "metadata": {
        "colab": {
          "base_uri": "https://localhost:8080/"
        },
        "id": "n345ema4xmuH",
        "outputId": "b0459db1-04b1-490e-e923-706551ca24cf"
      },
      "outputs": [
        {
          "data": {
            "text/plain": [
              "30"
            ]
          },
          "execution_count": 1,
          "metadata": {},
          "output_type": "execute_result"
        }
      ],
      "source": [
        "a=10\n",
        "b=a+a\n",
        "c=a+b\n",
        "a\n",
        "b\n",
        "c"
      ]
    },
    {
      "cell_type": "markdown",
      "metadata": {
        "id": "tvVTSv4OBNwZ"
      },
      "source": []
    },
    {
      "cell_type": "markdown",
      "metadata": {
        "id": "B5Gfta-zA__4"
      },
      "source": [
        "# CONTROL STATEMENTS"
      ]
    },
    {
      "cell_type": "markdown",
      "metadata": {
        "id": "qIhWQcWEBuhp"
      },
      "source": [
        "1. IF STATEMENT:\n",
        "syntax-\n",
        "\n",
        "if expression:\n",
        "\n",
        "   statements\n",
        "\n"
      ]
    },
    {
      "cell_type": "code",
      "execution_count": null,
      "metadata": {
        "colab": {
          "base_uri": "https://localhost:8080/"
        },
        "id": "Z2ixbgzqCOme",
        "outputId": "f6a6f05a-65a9-4218-fe4e-4972a9f2f290"
      },
      "outputs": [
        {
          "name": "stdout",
          "output_type": "stream",
          "text": [
            "hello\n",
            "done\n"
          ]
        }
      ],
      "source": [
        "x=10\n",
        "if x<=10:\n",
        "    print(\"hello\")\n",
        "    x=x+1\n",
        "print(\"done\")\n"
      ]
    },
    {
      "cell_type": "code",
      "execution_count": null,
      "metadata": {
        "colab": {
          "base_uri": "https://localhost:8080/"
        },
        "id": "c-vMMEvECx4S",
        "outputId": "0f91472e-2ea0-4cb5-8b63-5965eb764454"
      },
      "outputs": [
        {
          "name": "stdout",
          "output_type": "stream",
          "text": [
            "hello\n",
            "done\n"
          ]
        }
      ],
      "source": [
        "x=10\n",
        "if x>0:\n",
        "    print(\"hello\")\n",
        "    x=x+1\n",
        "print(\"done\")\n"
      ]
    },
    {
      "cell_type": "code",
      "execution_count": null,
      "metadata": {
        "colab": {
          "base_uri": "https://localhost:8080/"
        },
        "id": "kpPWLbd4DHET",
        "outputId": "0f9bf911-a61d-48ca-d9a0-d4305ce7da2f"
      },
      "outputs": [
        {
          "name": "stdout",
          "output_type": "stream",
          "text": [
            "Enter today's temperature:20\n",
            "It is a bit colder\n"
          ]
        }
      ],
      "source": [
        "temp=int(input(\"Enter today's temperature:\"))\n",
        "if temp >30:\n",
        "    print(\"It is a hot day\")\n",
        "    print(\"Drink plenty of water\")\n",
        "elif temp>20 and temp<=30:\n",
        "    print(\"It is a good day\")\n",
        "elif temp>10 and temp<=20:\n",
        "    print(\"It is a bit colder\")\n",
        "else:\n",
        "    print(\"Enjoy\")\n"
      ]
    },
    {
      "cell_type": "code",
      "execution_count": null,
      "metadata": {
        "colab": {
          "base_uri": "https://localhost:8080/"
        },
        "id": "zvI1vNEdEn2b",
        "outputId": "f1d3e436-8755-4fe0-ac2a-2f7cf4fd652b"
      },
      "outputs": [
        {
          "name": "stdout",
          "output_type": "stream",
          "text": [
            "Enter today's temperature:15\n",
            "It is a bit colder\n"
          ]
        }
      ],
      "source": [
        "temp=int(input(\"Enter today's temperature:\"))\n",
        "if temp >30:\n",
        "    print(\"It is a hot day\")\n",
        "    print(\"Drink plenty of water\")\n",
        "elif temp>20:\n",
        "    print(\"It is a good day\")\n",
        "elif temp>10:\n",
        "    print(\"It is a bit colder\")\n",
        "else:\n",
        "    print(\"Enjoy\")\n"
      ]
    },
    {
      "cell_type": "code",
      "execution_count": null,
      "metadata": {
        "colab": {
          "base_uri": "https://localhost:8080/"
        },
        "id": "xxD5tXvRFWhR",
        "outputId": "86419eb4-41a0-42e9-e5da-5bf36316e87c"
      },
      "outputs": [
        {
          "name": "stdout",
          "output_type": "stream",
          "text": [
            "Enter your weight: 53\n",
            "kgs/lbs :kgs\n",
            "Your weight in lbs is: 116.60000000000001\n"
          ]
        }
      ],
      "source": [
        "weight=int(input(\"Enter your weight: \"))\n",
        "unit=input(\"kgs/lbs :\")\n",
        "if unit=='kgs':\n",
        "    lbs=weight*2.2\n",
        "    print(\"Your weight in lbs is:\",lbs)\n",
        "else:\n",
        "   kgs=weight*0.45\n",
        "   print(\"your weight in kgs is:\",kgs)\n"
      ]
    },
    {
      "cell_type": "code",
      "execution_count": null,
      "metadata": {
        "colab": {
          "base_uri": "https://localhost:8080/"
        },
        "id": "9geYlEqoHDoV",
        "outputId": "ad45cdf3-2d64-4356-a67b-37b97cbcfde6"
      },
      "outputs": [
        {
          "name": "stdout",
          "output_type": "stream",
          "text": [
            "you get only three chances to guess the secret number\n"
          ]
        }
      ],
      "source": [
        "secret_num=4\n",
        "print(\"you get only three chances to guess the secret number\")\n",
        "a=int(input(\"guess the secret number:\"))\n",
        "if a==4:\n",
        "  print(\"You guessed it correct!\")\n",
        "else:\n",
        "  print(\"The guess was wrong you have two more chances~\")\n",
        "b=int(input(\"enter your second guess:\"))\n",
        "if b==4:\n",
        "  print(\"You guessed it right!\")\n",
        "else:\n",
        "  print(\"the guess was wrong you have one last chance:(\")\n",
        "c=int(input(\"enter your third guess:\"))\n",
        "if c==4:\n",
        "  print(\"Your guess was correct!!\")\n",
        "else:\n",
        "  print(\"Your guess was wrong, you lost your chances\")\n",
        "print(\"=====the guessing game is over=====\")"
      ]
    },
    {
      "cell_type": "code",
      "execution_count": null,
      "metadata": {
        "colab": {
          "base_uri": "https://localhost:8080/"
        },
        "id": "ru0V0nOcKuzh",
        "outputId": "8da4f55a-b1bf-4f1f-a16b-6e170cf3958f"
      },
      "outputs": [
        {
          "name": "stdout",
          "output_type": "stream",
          "text": [
            "Hello Everyone !!!\n",
            "hello\n",
            "world\n",
            "hello\n",
            "          world\n",
            "'Rohit’ s date of birth is 12\u0005\u0001999'\n"
          ]
        }
      ],
      "source": [
        "#A)\n",
        "print(\"Hello Everyone !!!\")\n",
        "#B)\n",
        "print(\"hello\\nworld\")\n",
        "#c)\n",
        "print(\"hello\\n          world\")\n",
        "#D)\n",
        "print(\"'Rohit’ s date of birth is 12\\05\\1999'\")"
      ]
    },
    {
      "cell_type": "code",
      "source": [],
      "metadata": {
        "id": "PsJjkGjPaXXy"
      },
      "execution_count": null,
      "outputs": []
    },
    {
      "cell_type": "markdown",
      "source": [
        "# New Section"
      ],
      "metadata": {
        "id": "rkU9kDn4TWhH"
      }
    },
    {
      "cell_type": "code",
      "execution_count": null,
      "metadata": {
        "id": "qBwa_uicLmib"
      },
      "outputs": [],
      "source": []
    },
    {
      "cell_type": "markdown",
      "metadata": {
        "id": "mFEzp7Vum6VZ"
      },
      "source": [
        "# LOOPS\n"
      ]
    },
    {
      "cell_type": "markdown",
      "metadata": {
        "id": "rCakba1wUeiG"
      },
      "source": []
    },
    {
      "cell_type": "code",
      "execution_count": null,
      "metadata": {
        "colab": {
          "base_uri": "https://localhost:8080/"
        },
        "id": "E_ESU-1AW5no",
        "outputId": "b576d123-5b96-4041-af16-97dfe2e7f56d"
      },
      "outputs": [
        {
          "name": "stdout",
          "output_type": "stream",
          "text": [
            "enter the guess12\n",
            "try again\n",
            "enter the guess15\n",
            "try again\n",
            "enter the guess14\n",
            "success\n"
          ]
        }
      ],
      "source": [
        "sec_num=14\n",
        "guess_count=3\n",
        "counter=0\n",
        "\n",
        "while counter<guess_count:\n",
        "  num=int(input(\"enter the guess\"))\n",
        "  if num==sec_num:\n",
        "    print(\"success\")\n",
        "    break\n",
        "  else:\n",
        "    print(\"try again\")"
      ]
    },
    {
      "cell_type": "code",
      "execution_count": null,
      "metadata": {
        "colab": {
          "background_save": true,
          "base_uri": "https://localhost:8080/"
        },
        "id": "JhWIZPDXXlZh",
        "outputId": "9c8a8e97-d201-4545-99f3-ada4d862b12b"
      },
      "outputs": [
        {
          "name": "stdout",
          "output_type": "stream",
          "text": [
            "Enter 1 to start\n",
            "enter 2 to stop\n",
            "enter 3 to quit\n",
            "enter 4 to help\n"
          ]
        }
      ],
      "source": [
        "print(\"Enter 1 to start\")\n",
        "print(\"enter 2 to stop\")\n",
        "print(\"enter 3 to quit\")\n",
        "print(\"enter 4 to help\")\n",
        "a=int(input(\"enter command\"))\n",
        "while a!=3:\n",
        "  a=int(input(\"enter command\"))\n",
        "  if a==3:\n",
        "    print(\"quitting\")\n",
        "    break\n",
        "  elif a==1:\n",
        "    print(\"starting\")\n",
        "  elif a==2:\n",
        "    print(\"stopping\")\n",
        "  elif a==4:\n",
        "    print(\"helping\")\n"
      ]
    },
    {
      "cell_type": "code",
      "execution_count": null,
      "metadata": {
        "id": "2JbEm1E4a9jX"
      },
      "outputs": [],
      "source": []
    },
    {
      "cell_type": "markdown",
      "source": [
        "# LISTS\n"
      ],
      "metadata": {
        "id": "_Y45jEuQX1b0"
      }
    },
    {
      "cell_type": "markdown",
      "source": [
        "L1=[1,2,3,4,5]\n",
        "index of a list is always zero.\n",
        "the following components would be named as 0,1,2,3,4\n"
      ],
      "metadata": {
        "id": "bqFO5gmTX6fp"
      }
    },
    {
      "cell_type": "code",
      "source": [
        "l1=[1,2,3,4,5,6,7,8,9,10]\n",
        "print(l1[2])\n",
        "print(l1[-3])\n",
        "#if we want order from reverse, it would go as -5,-4,-3,-2,-1\n",
        "print(l1[2:8])\n"
      ],
      "metadata": {
        "colab": {
          "base_uri": "https://localhost:8080/"
        },
        "id": "-H4vw2Y4YK4f",
        "outputId": "8d384cc9-bbdf-4b96-b947-4c0ca8d0ba09"
      },
      "execution_count": null,
      "outputs": [
        {
          "output_type": "stream",
          "name": "stdout",
          "text": [
            "3\n",
            "8\n",
            "[3, 4, 5, 6, 7, 8]\n"
          ]
        }
      ]
    },
    {
      "cell_type": "code",
      "source": [
        "#if we write double colons\n",
        "#[::]\n",
        "#[start:step:step size]"
      ],
      "metadata": {
        "id": "YJ-gFtZwYjCt"
      },
      "execution_count": null,
      "outputs": []
    },
    {
      "cell_type": "code",
      "source": [
        "a = [\"apple\", \"banana\", \"cherry\"]\n",
        "b = [\"Ford\", \"BMW\", \"Volvo\"]\n",
        "a.append(b)\n",
        "print(a)\n"
      ],
      "metadata": {
        "colab": {
          "base_uri": "https://localhost:8080/"
        },
        "id": "wqsr9ub8cn9p",
        "outputId": "62573898-769d-4a32-e62e-11cf5bd421c9"
      },
      "execution_count": null,
      "outputs": [
        {
          "output_type": "stream",
          "name": "stdout",
          "text": [
            "['apple', 'banana', 'cherry', ['Ford', 'BMW', 'Volvo']]\n"
          ]
        }
      ]
    },
    {
      "cell_type": "code",
      "source": [
        "thislist = [\"apple\", \"banana\", \"cherry\"]\n",
        "thislist.insert(1, \"orange\")\n",
        "print(thislist)"
      ],
      "metadata": {
        "colab": {
          "base_uri": "https://localhost:8080/"
        },
        "id": "aWdYZgffdHiE",
        "outputId": "1d288abe-7a54-4f74-9140-53edae24b296"
      },
      "execution_count": null,
      "outputs": [
        {
          "output_type": "stream",
          "name": "stdout",
          "text": [
            "['apple', 'orange', 'banana', 'cherry']\n"
          ]
        }
      ]
    },
    {
      "cell_type": "code",
      "source": [
        "thislist = [\"apple\", \"banana\", \"cherry\"]\n",
        "tropical = [\"mango\", \"pineapple\", \"papaya\"]\n",
        "thislist.extend(tropical)\n",
        "print(thislist)"
      ],
      "metadata": {
        "colab": {
          "base_uri": "https://localhost:8080/"
        },
        "id": "ZYs2UYBqefOj",
        "outputId": "276c7b56-5395-491c-8338-66fad416cf84"
      },
      "execution_count": null,
      "outputs": [
        {
          "output_type": "stream",
          "name": "stdout",
          "text": [
            "['apple', 'banana', 'cherry', 'mango', 'pineapple', 'papaya']\n"
          ]
        }
      ]
    },
    {
      "cell_type": "code",
      "source": [
        "thislist = [\"apple\", \"banana\", \"cherry\"]\n",
        "thislist.remove(\"banana\")\n",
        "print(thislist)"
      ],
      "metadata": {
        "colab": {
          "base_uri": "https://localhost:8080/"
        },
        "id": "hEFRsg3JekVm",
        "outputId": "93b19b33-5fd3-471b-fe64-28e9bf76cbb9"
      },
      "execution_count": null,
      "outputs": [
        {
          "output_type": "stream",
          "name": "stdout",
          "text": [
            "['apple', 'cherry']\n"
          ]
        }
      ]
    },
    {
      "cell_type": "code",
      "source": [
        "thislist = [\"apple\", \"banana\", \"cherry\"]\n",
        "thislist.pop(1)\n",
        "print(thislist)\n",
        "#removes specified index"
      ],
      "metadata": {
        "colab": {
          "base_uri": "https://localhost:8080/"
        },
        "id": "iUpc7ZBpep6N",
        "outputId": "67b626ce-49bd-450c-d390-865a9a4e3e72"
      },
      "execution_count": null,
      "outputs": [
        {
          "output_type": "stream",
          "name": "stdout",
          "text": [
            "['apple', 'cherry']\n"
          ]
        }
      ]
    },
    {
      "cell_type": "code",
      "source": [
        "thislist = [\"apple\", \"banana\", \"cherry\"]\n",
        "del thislist[0]\n",
        "print(thislist)"
      ],
      "metadata": {
        "colab": {
          "base_uri": "https://localhost:8080/"
        },
        "id": "A8YtpVtzeuED",
        "outputId": "a0df435f-e87c-4127-d232-e477c09bdedb"
      },
      "execution_count": null,
      "outputs": [
        {
          "output_type": "stream",
          "name": "stdout",
          "text": [
            "['banana', 'cherry']\n"
          ]
        }
      ]
    },
    {
      "cell_type": "code",
      "source": [
        "thislist = [\"apple\", \"banana\", \"cherry\"]\n",
        "del thislist"
      ],
      "metadata": {
        "id": "E7pIb6yle6iF"
      },
      "execution_count": null,
      "outputs": []
    },
    {
      "cell_type": "code",
      "source": [
        "a=list((1,2,3,4,\"abc\",'a',7.5))\n",
        "print(a)"
      ],
      "metadata": {
        "colab": {
          "base_uri": "https://localhost:8080/"
        },
        "id": "vF8ZzNmde9lS",
        "outputId": "7b8a5c9b-6960-437d-b6e0-46a364920cf7"
      },
      "execution_count": null,
      "outputs": [
        {
          "output_type": "stream",
          "name": "stdout",
          "text": [
            "[1, 2, 3, 4, 'abc', 'a', 7.5]\n"
          ]
        }
      ]
    },
    {
      "cell_type": "code",
      "source": [
        "l1=[]\n",
        "c=0\n",
        "for i in range(11):\n",
        "  c=c+i\n",
        "  l1.append(c)\n",
        "print(l1)\n"
      ],
      "metadata": {
        "id": "GqJ-Mh2xh8Mp",
        "colab": {
          "base_uri": "https://localhost:8080/"
        },
        "outputId": "a6912a7b-b41c-46c9-9388-bba9a38cf865"
      },
      "execution_count": null,
      "outputs": [
        {
          "output_type": "stream",
          "name": "stdout",
          "text": [
            "[0, 1, 3, 6, 10, 15, 21, 28, 36, 45, 55]\n"
          ]
        }
      ]
    },
    {
      "cell_type": "code",
      "source": [
        "l1=[]\n",
        "for i in range(50):\n",
        "  c=i**2\n",
        "  l1.append(c)\n",
        "print(l1)\n"
      ],
      "metadata": {
        "colab": {
          "base_uri": "https://localhost:8080/"
        },
        "id": "yzY44RNQGgLI",
        "outputId": "54a184f7-db71-4f8a-9bf1-78ca6c4cd7c0"
      },
      "execution_count": null,
      "outputs": [
        {
          "output_type": "stream",
          "name": "stdout",
          "text": [
            "[0, 1, 4, 9, 16, 25, 36, 49, 64, 81, 100, 121, 144, 169, 196, 225, 256, 289, 324, 361, 400, 441, 484, 529, 576, 625, 676, 729, 784, 841, 900, 961, 1024, 1089, 1156, 1225, 1296, 1369, 1444, 1521, 1600, 1681, 1764, 1849, 1936, 2025, 2116, 2209, 2304, 2401]\n"
          ]
        }
      ]
    },
    {
      "cell_type": "code",
      "source": [],
      "metadata": {
        "id": "Rvx_l19zHhVD"
      },
      "execution_count": null,
      "outputs": []
    },
    {
      "cell_type": "markdown",
      "source": [
        "# In built functions\n"
      ],
      "metadata": {
        "id": "7JDn6coHJHj6"
      }
    },
    {
      "cell_type": "markdown",
      "source": [
        "ENUMERATE"
      ],
      "metadata": {
        "id": "fcWUVofOJVTb"
      }
    },
    {
      "cell_type": "code",
      "source": [
        "list=[1,2,3,5,12]\n",
        "for i, index in enumerate(list):\n",
        "  print(i,\"is at index number:\",index)\n"
      ],
      "metadata": {
        "colab": {
          "base_uri": "https://localhost:8080/"
        },
        "id": "l09Z2gcVJXKP",
        "outputId": "f8e5689c-8323-4007-ef66-b33a6d45ed03"
      },
      "execution_count": null,
      "outputs": [
        {
          "output_type": "stream",
          "name": "stdout",
          "text": [
            "0 is at index number: 1\n",
            "1 is at index number: 2\n",
            "2 is at index number: 3\n",
            "3 is at index number: 5\n",
            "4 is at index number: 12\n"
          ]
        }
      ]
    },
    {
      "cell_type": "code",
      "source": [
        "list=[1,2,3,5,7,12,14]\n",
        "for i in range(len(list)):\n",
        "  print(list)"
      ],
      "metadata": {
        "id": "5I1OTBknJpNc",
        "colab": {
          "base_uri": "https://localhost:8080/"
        },
        "outputId": "6a95749a-4e51-4754-998c-e4fbf9a5487e"
      },
      "execution_count": null,
      "outputs": [
        {
          "output_type": "stream",
          "name": "stdout",
          "text": [
            "[1, 2, 3, 5, 7, 12, 14]\n",
            "[1, 2, 3, 5, 7, 12, 14]\n",
            "[1, 2, 3, 5, 7, 12, 14]\n",
            "[1, 2, 3, 5, 7, 12, 14]\n",
            "[1, 2, 3, 5, 7, 12, 14]\n",
            "[1, 2, 3, 5, 7, 12, 14]\n",
            "[1, 2, 3, 5, 7, 12, 14]\n"
          ]
        }
      ]
    },
    {
      "cell_type": "code",
      "source": [
        "new=0\n",
        "while i>0:\n",
        "  for i in range(20,1000):\n",
        "  num=i\n",
        "  rem=i%10\n",
        "  new=new+(rem)**3\n",
        "  i=i//10\n",
        "  if new==num:\n",
        "    print(num,\"is an armstrong number\")\n",
        "\n",
        "\n",
        "\n"
      ],
      "metadata": {
        "colab": {
          "base_uri": "https://localhost:8080/",
          "height": 106
        },
        "id": "fgHIxkn2K9wq",
        "outputId": "98859fed-42f3-49bf-a13d-ded41428cf57"
      },
      "execution_count": null,
      "outputs": [
        {
          "output_type": "error",
          "ename": "IndentationError",
          "evalue": "expected an indented block after 'for' statement on line 3 (<ipython-input-20-39442cb52e95>, line 4)",
          "traceback": [
            "\u001b[0;36m  File \u001b[0;32m\"<ipython-input-20-39442cb52e95>\"\u001b[0;36m, line \u001b[0;32m4\u001b[0m\n\u001b[0;31m    num=i\u001b[0m\n\u001b[0m    ^\u001b[0m\n\u001b[0;31mIndentationError\u001b[0m\u001b[0;31m:\u001b[0m expected an indented block after 'for' statement on line 3\n"
          ]
        }
      ]
    },
    {
      "cell_type": "code",
      "source": [],
      "metadata": {
        "id": "jE4cn3_2N-Rk"
      },
      "execution_count": null,
      "outputs": []
    },
    {
      "cell_type": "markdown",
      "source": [
        "# FOR LOOPS\n",
        "\n",
        "\n",
        "> Add blockquote\n",
        "\n"
      ],
      "metadata": {
        "id": "B07WZe25TX5-"
      }
    },
    {
      "cell_type": "code",
      "source": [
        "i=1\n",
        "num=int(input(\"enter the integer whose factorial you want:\"))\n",
        "for a in range (1,num+1):\n",
        "    i=i*a\n",
        "print(i)\n"
      ],
      "metadata": {
        "colab": {
          "base_uri": "https://localhost:8080/"
        },
        "id": "bxIF14JpTbQ_",
        "outputId": "23b5cee2-135b-4b4a-d8b6-e18860eef8b9"
      },
      "execution_count": null,
      "outputs": [
        {
          "output_type": "stream",
          "name": "stdout",
          "text": [
            "enter the integer whose factorial you want:6\n",
            "720\n"
          ]
        }
      ]
    },
    {
      "cell_type": "code",
      "source": [
        "num= int(input(\"enter any integer:\"))\n",
        "s=str(num)\n",
        "n=len(s)\n",
        "orinum=0\n",
        "num=orinum\n",
        "arm=0\n",
        "for n in range (num):\n",
        "    rem=orinum%10\n",
        "    arm=arm+(rem**3)\n",
        "    orinum=orinum//10\n",
        "if arm==num:\n",
        "    print(\"the given number is armstrong\")\n",
        "else :\n",
        "    print(\"the given number is not armstrong\")\n",
        "\n"
      ],
      "metadata": {
        "colab": {
          "base_uri": "https://localhost:8080/",
          "height": 373
        },
        "collapsed": true,
        "id": "g8n_VksiXyJd",
        "outputId": "2d709b73-b03d-4885-ccb3-303638d3e8e1"
      },
      "execution_count": null,
      "outputs": [
        {
          "output_type": "error",
          "ename": "KeyboardInterrupt",
          "evalue": "Interrupted by user",
          "traceback": [
            "\u001b[0;31m---------------------------------------------------------------------------\u001b[0m",
            "\u001b[0;31mKeyboardInterrupt\u001b[0m                         Traceback (most recent call last)",
            "\u001b[0;32m<ipython-input-2-445e7fe0f33a>\u001b[0m in \u001b[0;36m<cell line: 0>\u001b[0;34m()\u001b[0m\n\u001b[0;32m----> 1\u001b[0;31m \u001b[0mnum\u001b[0m\u001b[0;34m=\u001b[0m \u001b[0mint\u001b[0m\u001b[0;34m(\u001b[0m\u001b[0minput\u001b[0m\u001b[0;34m(\u001b[0m\u001b[0;34m\"enter any integer:\"\u001b[0m\u001b[0;34m)\u001b[0m\u001b[0;34m)\u001b[0m\u001b[0;34m\u001b[0m\u001b[0;34m\u001b[0m\u001b[0m\n\u001b[0m\u001b[1;32m      2\u001b[0m \u001b[0ms\u001b[0m\u001b[0;34m=\u001b[0m\u001b[0mstr\u001b[0m\u001b[0;34m(\u001b[0m\u001b[0mnum\u001b[0m\u001b[0;34m)\u001b[0m\u001b[0;34m\u001b[0m\u001b[0;34m\u001b[0m\u001b[0m\n\u001b[1;32m      3\u001b[0m \u001b[0mn\u001b[0m\u001b[0;34m=\u001b[0m\u001b[0mlen\u001b[0m\u001b[0;34m(\u001b[0m\u001b[0ms\u001b[0m\u001b[0;34m)\u001b[0m\u001b[0;34m\u001b[0m\u001b[0;34m\u001b[0m\u001b[0m\n\u001b[1;32m      4\u001b[0m \u001b[0morinum\u001b[0m\u001b[0;34m=\u001b[0m\u001b[0;36m0\u001b[0m\u001b[0;34m\u001b[0m\u001b[0;34m\u001b[0m\u001b[0m\n\u001b[1;32m      5\u001b[0m \u001b[0mnum\u001b[0m\u001b[0;34m=\u001b[0m\u001b[0morinum\u001b[0m\u001b[0;34m\u001b[0m\u001b[0;34m\u001b[0m\u001b[0m\n",
            "\u001b[0;32m/usr/local/lib/python3.11/dist-packages/ipykernel/kernelbase.py\u001b[0m in \u001b[0;36mraw_input\u001b[0;34m(self, prompt)\u001b[0m\n\u001b[1;32m    849\u001b[0m                 \u001b[0;34m\"raw_input was called, but this frontend does not support input requests.\"\u001b[0m\u001b[0;34m\u001b[0m\u001b[0;34m\u001b[0m\u001b[0m\n\u001b[1;32m    850\u001b[0m             )\n\u001b[0;32m--> 851\u001b[0;31m         return self._input_request(str(prompt),\n\u001b[0m\u001b[1;32m    852\u001b[0m             \u001b[0mself\u001b[0m\u001b[0;34m.\u001b[0m\u001b[0m_parent_ident\u001b[0m\u001b[0;34m,\u001b[0m\u001b[0;34m\u001b[0m\u001b[0;34m\u001b[0m\u001b[0m\n\u001b[1;32m    853\u001b[0m             \u001b[0mself\u001b[0m\u001b[0;34m.\u001b[0m\u001b[0m_parent_header\u001b[0m\u001b[0;34m,\u001b[0m\u001b[0;34m\u001b[0m\u001b[0;34m\u001b[0m\u001b[0m\n",
            "\u001b[0;32m/usr/local/lib/python3.11/dist-packages/ipykernel/kernelbase.py\u001b[0m in \u001b[0;36m_input_request\u001b[0;34m(self, prompt, ident, parent, password)\u001b[0m\n\u001b[1;32m    893\u001b[0m             \u001b[0;32mexcept\u001b[0m \u001b[0mKeyboardInterrupt\u001b[0m\u001b[0;34m:\u001b[0m\u001b[0;34m\u001b[0m\u001b[0;34m\u001b[0m\u001b[0m\n\u001b[1;32m    894\u001b[0m                 \u001b[0;31m# re-raise KeyboardInterrupt, to truncate traceback\u001b[0m\u001b[0;34m\u001b[0m\u001b[0;34m\u001b[0m\u001b[0m\n\u001b[0;32m--> 895\u001b[0;31m                 \u001b[0;32mraise\u001b[0m \u001b[0mKeyboardInterrupt\u001b[0m\u001b[0;34m(\u001b[0m\u001b[0;34m\"Interrupted by user\"\u001b[0m\u001b[0;34m)\u001b[0m \u001b[0;32mfrom\u001b[0m \u001b[0;32mNone\u001b[0m\u001b[0;34m\u001b[0m\u001b[0;34m\u001b[0m\u001b[0m\n\u001b[0m\u001b[1;32m    896\u001b[0m             \u001b[0;32mexcept\u001b[0m \u001b[0mException\u001b[0m \u001b[0;32mas\u001b[0m \u001b[0me\u001b[0m\u001b[0;34m:\u001b[0m\u001b[0;34m\u001b[0m\u001b[0;34m\u001b[0m\u001b[0m\n\u001b[1;32m    897\u001b[0m                 \u001b[0mself\u001b[0m\u001b[0;34m.\u001b[0m\u001b[0mlog\u001b[0m\u001b[0;34m.\u001b[0m\u001b[0mwarning\u001b[0m\u001b[0;34m(\u001b[0m\u001b[0;34m\"Invalid Message:\"\u001b[0m\u001b[0;34m,\u001b[0m \u001b[0mexc_info\u001b[0m\u001b[0;34m=\u001b[0m\u001b[0;32mTrue\u001b[0m\u001b[0;34m)\u001b[0m\u001b[0;34m\u001b[0m\u001b[0;34m\u001b[0m\u001b[0m\n",
            "\u001b[0;31mKeyboardInterrupt\u001b[0m: Interrupted by user"
          ]
        }
      ]
    },
    {
      "cell_type": "code",
      "source": [],
      "metadata": {
        "id": "VcAEYG46htzg"
      },
      "execution_count": null,
      "outputs": []
    },
    {
      "cell_type": "code",
      "source": [
        "num= int(input(\"enter any integer:\"))\n",
        "a=0\n",
        "b=1\n",
        "for i in range(1,num+1):\n",
        "    c=a+b\n",
        "    a=b\n",
        "    b=c\n",
        "    print(b)"
      ],
      "metadata": {
        "id": "e-Pmi35yYzwA"
      },
      "execution_count": null,
      "outputs": []
    },
    {
      "cell_type": "code",
      "source": [
        "num= int(input(\"enter any integer:\"))\n",
        "a=num**0.5\n",
        "b=int(a)\n",
        "temp=0\n",
        "for i in range (2,b):\n",
        "    temp=num%i\n",
        "    if temp==0:\n",
        "        break\n",
        "if temp==0:\n",
        "    print(\"given integer is not prime\")\n",
        "else:\n",
        "    print(\"given integer is prime\")"
      ],
      "metadata": {
        "id": "gaBVEy2iaroZ"
      },
      "execution_count": null,
      "outputs": []
    },
    {
      "cell_type": "code",
      "source": [
        "num= int(input(\"enter any integer:\"))\n",
        "b= str(num)\n",
        "n=len(b)\n",
        "tempnum=num\n",
        "tempn=n-1\n",
        "pali=0\n",
        "for i in range (n):\n",
        "    rem=tempnum%10\n",
        "    pali=rem*(10**tempn)+pali\n",
        "    tempn=tempn-1\n",
        "    tempnum=tempnum//10\n",
        "print(pali)\n",
        "if pali==num:\n",
        "    print(\"the given integer is palindrome\")\n",
        "else:\n",
        "    print(\"not palindrome\")\n",
        "\n"
      ],
      "metadata": {
        "id": "xrirpNWvfLpp"
      },
      "execution_count": null,
      "outputs": []
    },
    {
      "cell_type": "code",
      "source": [
        "num= int(input(\"enter any integer:\"))\n",
        "s=str(num)\n",
        "n=len(s)\n",
        "orinum=num\n",
        "add=0\n",
        "for n in range (num):\n",
        "    rem=orinum%10\n",
        "    add=add+ rem\n",
        "    orinum=orinum//10\n",
        "print(\"sum of digits is:\",add)\n"
      ],
      "metadata": {
        "id": "Pecnsw0VhvED"
      },
      "execution_count": null,
      "outputs": []
    },
    {
      "cell_type": "code",
      "source": [
        "print(\"all the numbers divisible by 5 and 7 are as follows:\")\n",
        "for i in range(1,101):\n",
        "    remone=i%5\n",
        "    remtwo=i%7\n",
        "    if remone==0:\n",
        "        print(i,\"divisible by 5\")\n",
        "    elif remtwo==0:\n",
        "        print(i,\"divisible by 7\")\n",
        "\n"
      ],
      "metadata": {
        "id": "dTDAhRz8j2xK"
      },
      "execution_count": null,
      "outputs": []
    },
    {
      "cell_type": "code",
      "source": [],
      "metadata": {
        "id": "PUUeuUkNatw-"
      },
      "execution_count": null,
      "outputs": []
    },
    {
      "cell_type": "markdown",
      "source": [
        "# SETS"
      ],
      "metadata": {
        "id": "399jOepiavLf"
      }
    },
    {
      "cell_type": "markdown",
      "source": [
        "in sets we have unique elements\n",
        "\n",
        "set is a collection of items(numbers,strings)\n",
        "\n",
        "set is mutable but elemnts of set are immutable\n",
        "\n",
        "set_1={1,2,3,4,oc,haathi}\n",
        "\n",
        "no duplicate copies of any element are allowed in sets\n",
        "\n",
        "lists as elements are not allowed in sets since lists are mutable"
      ],
      "metadata": {
        "id": "TcVp_I_NayuS"
      }
    },
    {
      "cell_type": "code",
      "source": [
        "set={1,2,3,4,5}\n",
        "set.add('nine')\n",
        "print(set)"
      ],
      "metadata": {
        "colab": {
          "base_uri": "https://localhost:8080/"
        },
        "id": "iu-JHgCjcgLo",
        "outputId": "4aafa59a-0466-42c6-c36c-e1a0022ac19b"
      },
      "execution_count": 3,
      "outputs": [
        {
          "output_type": "stream",
          "name": "stdout",
          "text": [
            "{1, 2, 3, 4, 5, 'nine'}\n"
          ]
        }
      ]
    },
    {
      "cell_type": "code",
      "source": [
        "#discard and remove helps to delete elements of a set\n",
        "set_1={1,2,3,4,5}\n",
        "set_1.remove(4)\n",
        "print(set_1)\n",
        "set_1.discard(1)\n",
        "print(set_1)\n",
        "#difference between discard and remove is that discard will run inspite the fact that there is an element or not\n",
        "#remove is used when we know there is an element\n",
        "#modification cannot be made on a particular location"
      ],
      "metadata": {
        "colab": {
          "base_uri": "https://localhost:8080/"
        },
        "id": "pWyg7ejJclXF",
        "outputId": "5884d127-71a6-41f3-de76-32af4e0e0bf1"
      },
      "execution_count": 6,
      "outputs": [
        {
          "output_type": "stream",
          "name": "stdout",
          "text": [
            "{1, 2, 3, 5}\n",
            "{2, 3, 5}\n"
          ]
        }
      ]
    },
    {
      "cell_type": "markdown",
      "source": [
        "set operations\n",
        "\n",
        "union()\n",
        "\n",
        "intersection()\n",
        "\n",
        "superset()\n",
        "\n",
        "subset()\n",
        "\n",
        "disjoint()"
      ],
      "metadata": {
        "id": "xPpdpneAdOjP"
      }
    },
    {
      "cell_type": "code",
      "source": [
        "#union operation is a.union(b)\n",
        "a={1,2,3,4,5,6,7}\n",
        "b={5,7,9,12,14}\n",
        "c={10,20,30,35,50}\n",
        "print(a.union(b))\n",
        "print(a.intersection(b))\n",
        "#a.union_update(b) will give you the superset of two sets\n",
        "print(a.union_update(b))\n",
        "print(a.intersection_update(b))"
      ],
      "metadata": {
        "id": "qPITQZsheP3q",
        "outputId": "c6d9ee7c-0e31-4851-b36b-522a9078cf8f",
        "colab": {
          "base_uri": "https://localhost:8080/",
          "height": 228
        }
      },
      "execution_count": 12,
      "outputs": [
        {
          "output_type": "stream",
          "name": "stdout",
          "text": [
            "{1, 2, 3, 4, 5, 6, 7, 9, 12, 14}\n",
            "{5, 7}\n"
          ]
        },
        {
          "output_type": "error",
          "ename": "AttributeError",
          "evalue": "'set' object has no attribute 'union_update'",
          "traceback": [
            "\u001b[0;31m---------------------------------------------------------------------------\u001b[0m",
            "\u001b[0;31mAttributeError\u001b[0m                            Traceback (most recent call last)",
            "\u001b[0;32m<ipython-input-12-765269e60ffb>\u001b[0m in \u001b[0;36m<cell line: 0>\u001b[0;34m()\u001b[0m\n\u001b[1;32m      6\u001b[0m \u001b[0mprint\u001b[0m\u001b[0;34m(\u001b[0m\u001b[0ma\u001b[0m\u001b[0;34m.\u001b[0m\u001b[0mintersection\u001b[0m\u001b[0;34m(\u001b[0m\u001b[0mb\u001b[0m\u001b[0;34m)\u001b[0m\u001b[0;34m)\u001b[0m\u001b[0;34m\u001b[0m\u001b[0;34m\u001b[0m\u001b[0m\n\u001b[1;32m      7\u001b[0m \u001b[0;31m#a.union_update(b) will give you the superset of two sets\u001b[0m\u001b[0;34m\u001b[0m\u001b[0;34m\u001b[0m\u001b[0m\n\u001b[0;32m----> 8\u001b[0;31m \u001b[0mprint\u001b[0m\u001b[0;34m(\u001b[0m\u001b[0ma\u001b[0m\u001b[0;34m.\u001b[0m\u001b[0munion_update\u001b[0m\u001b[0;34m(\u001b[0m\u001b[0mb\u001b[0m\u001b[0;34m)\u001b[0m\u001b[0;34m)\u001b[0m\u001b[0;34m\u001b[0m\u001b[0;34m\u001b[0m\u001b[0m\n\u001b[0m\u001b[1;32m      9\u001b[0m \u001b[0mprint\u001b[0m\u001b[0;34m(\u001b[0m\u001b[0ma\u001b[0m\u001b[0;34m.\u001b[0m\u001b[0mintersection_update\u001b[0m\u001b[0;34m(\u001b[0m\u001b[0mb\u001b[0m\u001b[0;34m)\u001b[0m\u001b[0;34m)\u001b[0m\u001b[0;34m\u001b[0m\u001b[0;34m\u001b[0m\u001b[0m\n",
            "\u001b[0;31mAttributeError\u001b[0m: 'set' object has no attribute 'union_update'"
          ]
        }
      ]
    },
    {
      "cell_type": "code",
      "source": [
        "#write a pyhton program to convert a list of odd numbers into a set using list comprehension\n",
        "\n",
        "swastika=set([i for i in range (1000) if i%2!=0])\n",
        "print(swastika)"
      ],
      "metadata": {
        "id": "PMR8SEbner2C",
        "outputId": "76062da5-6008-4b28-d464-5cdc1e6668aa",
        "colab": {
          "base_uri": "https://localhost:8080/",
          "height": 211
        }
      },
      "execution_count": 17,
      "outputs": [
        {
          "output_type": "error",
          "ename": "TypeError",
          "evalue": "'set' object is not callable",
          "traceback": [
            "\u001b[0;31m---------------------------------------------------------------------------\u001b[0m",
            "\u001b[0;31mTypeError\u001b[0m                                 Traceback (most recent call last)",
            "\u001b[0;32m<ipython-input-17-154d406ab628>\u001b[0m in \u001b[0;36m<cell line: 0>\u001b[0;34m()\u001b[0m\n\u001b[1;32m      1\u001b[0m \u001b[0;31m#write a pyhton program to convert a list of odd numbers into a set using list comprehension\u001b[0m\u001b[0;34m\u001b[0m\u001b[0;34m\u001b[0m\u001b[0m\n\u001b[1;32m      2\u001b[0m \u001b[0;34m\u001b[0m\u001b[0m\n\u001b[0;32m----> 3\u001b[0;31m \u001b[0mswastika\u001b[0m\u001b[0;34m=\u001b[0m\u001b[0mset\u001b[0m\u001b[0;34m(\u001b[0m\u001b[0;34m[\u001b[0m\u001b[0mi\u001b[0m \u001b[0;32mfor\u001b[0m \u001b[0mi\u001b[0m \u001b[0;32min\u001b[0m \u001b[0mrange\u001b[0m \u001b[0;34m(\u001b[0m\u001b[0;36m1000\u001b[0m\u001b[0;34m)\u001b[0m \u001b[0;32mif\u001b[0m \u001b[0mi\u001b[0m\u001b[0;34m%\u001b[0m\u001b[0;36m2\u001b[0m\u001b[0;34m!=\u001b[0m\u001b[0;36m0\u001b[0m\u001b[0;34m]\u001b[0m\u001b[0;34m)\u001b[0m\u001b[0;34m\u001b[0m\u001b[0;34m\u001b[0m\u001b[0m\n\u001b[0m\u001b[1;32m      4\u001b[0m \u001b[0mprint\u001b[0m\u001b[0;34m(\u001b[0m\u001b[0mswastika\u001b[0m\u001b[0;34m)\u001b[0m\u001b[0;34m\u001b[0m\u001b[0;34m\u001b[0m\u001b[0m\n",
            "\u001b[0;31mTypeError\u001b[0m: 'set' object is not callable"
          ]
        }
      ]
    },
    {
      "cell_type": "code",
      "source": [],
      "metadata": {
        "id": "a0UnTfHThuHX"
      },
      "execution_count": null,
      "outputs": []
    }
  ],
  "metadata": {
    "colab": {
      "provenance": [],
      "toc_visible": true,
      "authorship_tag": "ABX9TyOkV/xVIdyvBLpVTr1/PeBE",
      "include_colab_link": true
    },
    "kernelspec": {
      "display_name": "Python 3",
      "name": "python3"
    },
    "language_info": {
      "name": "python"
    }
  },
  "nbformat": 4,
  "nbformat_minor": 0
}