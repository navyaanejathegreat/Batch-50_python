{
  "cells": [
    {
      "cell_type": "markdown",
      "metadata": {
        "id": "view-in-github",
        "colab_type": "text"
      },
      "source": [
        "<a href=\"https://colab.research.google.com/github/navyaanejathegreat/Batch-50_python/blob/main/labone.ipynb\" target=\"_parent\"><img src=\"https://colab.research.google.com/assets/colab-badge.svg\" alt=\"Open In Colab\"/></a>"
      ]
    },
    {
      "cell_type": "code",
      "execution_count": null,
      "metadata": {
        "id": "tYGQyp8qJgyd"
      },
      "outputs": [],
      "source": [
        "#welcome to my first lab"
      ]
    },
    {
      "cell_type": "code",
      "execution_count": null,
      "metadata": {
        "colab": {
          "base_uri": "https://localhost:8080/"
        },
        "id": "DBozF_VgJm7l",
        "outputId": "119d489a-0db9-496c-83df-75aad541c0b5"
      },
      "outputs": [
        {
          "name": "stdout",
          "output_type": "stream",
          "text": [
            "welcome to my first lab!\n",
            "<class 'float'>\n"
          ]
        }
      ],
      "source": [
        "print(\"welcome to my first lab!\")\n",
        "a=10.5\n",
        "print(type(a))\n"
      ]
    },
    {
      "cell_type": "code",
      "execution_count": null,
      "metadata": {
        "colab": {
          "base_uri": "https://localhost:8080/"
        },
        "id": "bGOl0BT-LqUu",
        "outputId": "cfb03159-9419-4120-9c2e-c2bd86a92a1c"
      },
      "outputs": [
        {
          "name": "stdout",
          "output_type": "stream",
          "text": [
            "navyaanejathegreat\n"
          ]
        }
      ],
      "source": [
        "print(\"navyaanejathegreat\")"
      ]
    },
    {
      "cell_type": "markdown",
      "metadata": {
        "id": "lH5Fm6SpMS-G"
      },
      "source": [
        "# STATEMENTS\n"
      ]
    },
    {
      "cell_type": "code",
      "execution_count": null,
      "metadata": {
        "colab": {
          "base_uri": "https://localhost:8080/"
        },
        "id": "EZ9HtY2jNkS8",
        "outputId": "0a2fe786-ee1f-4bc8-b937-6005701f3235"
      },
      "outputs": [
        {
          "name": "stdout",
          "output_type": "stream",
          "text": [
            "36\n",
            "140\n"
          ]
        }
      ],
      "source": [
        "a=18+18\n",
        "#this is a single line statement\n",
        "print(a)\n",
        "a=10+10+\\\n",
        "    20+20+20+\\\n",
        "    30+20+10\n",
        "    #this is a multi line statement\n",
        "print(a)\n"
      ]
    },
    {
      "cell_type": "code",
      "execution_count": null,
      "metadata": {
        "colab": {
          "base_uri": "https://localhost:8080/"
        },
        "id": "iGiiGoZ9OB0r",
        "outputId": "68333e92-7d56-4c7e-90de-1008bc829f90"
      },
      "outputs": [
        {
          "name": "stdout",
          "output_type": "stream",
          "text": [
            "navya\n",
            "navyaanejathegreat\n"
          ]
        }
      ],
      "source": [
        "a=\"navya\"\n",
        "print(a)\n",
        "a=\"navya\"+\\\n",
        "\"aneja\"+\\\n",
        "\"the\"+\\\n",
        "\"great\"\n",
        "print(a)\n"
      ]
    },
    {
      "cell_type": "code",
      "execution_count": null,
      "metadata": {
        "colab": {
          "base_uri": "https://localhost:8080/"
        },
        "id": "q53uKBkCOnoM",
        "outputId": "f6430aba-074e-4179-8faa-6ffba5916432"
      },
      "outputs": [
        {
          "data": {
            "text/plain": [
              "['a', 'e', 'i', 'o', 'u']"
            ]
          },
          "execution_count": 12,
          "metadata": {},
          "output_type": "execute_result"
        }
      ],
      "source": [
        "l1=['a',\n",
        "    'e',\n",
        "    'i',\n",
        "    'o',\n",
        "    'u'\n",
        "    ]\n",
        "l1\n"
      ]
    },
    {
      "cell_type": "code",
      "execution_count": null,
      "metadata": {
        "id": "EG-ZaP4jP2E1"
      },
      "outputs": [],
      "source": [
        "mystring=\"'my name is navya aneja' \\n 'i am a student at upes'\""
      ]
    },
    {
      "cell_type": "code",
      "execution_count": null,
      "metadata": {
        "id": "dCXoO5coQXAi"
      },
      "outputs": [],
      "source": [
        "mystring=\"'my name is navya aneja' \\n 'i am a student at upes'\""
      ]
    },
    {
      "cell_type": "code",
      "execution_count": null,
      "metadata": {
        "id": "Yt_WIqYxQ4Z6"
      },
      "outputs": [],
      "source": []
    },
    {
      "cell_type": "markdown",
      "metadata": {
        "id": "48TosjE5Q9dg"
      },
      "source": [
        "# Input function\n"
      ]
    },
    {
      "cell_type": "code",
      "execution_count": null,
      "metadata": {
        "colab": {
          "base_uri": "https://localhost:8080/"
        },
        "id": "RGhAQiOdRGsD",
        "outputId": "157b1d12-5e35-4ce5-bdfc-bd78c0d53733"
      },
      "outputs": [
        {
          "name": "stdout",
          "output_type": "stream",
          "text": [
            "enter first number:2\n",
            "enter second number:3\n"
          ]
        },
        {
          "data": {
            "text/plain": [
              "5"
            ]
          },
          "execution_count": 18,
          "metadata": {},
          "output_type": "execute_result"
        }
      ],
      "source": [
        "num1=int(input(\"enter first number:\"))\n",
        "num2=int(input(\"enter second number:\"))\n",
        "sum=num1+num2\n",
        "sum"
      ]
    },
    {
      "cell_type": "code",
      "execution_count": null,
      "metadata": {
        "colab": {
          "base_uri": "https://localhost:8080/"
        },
        "id": "yxWniSe4RWNH",
        "outputId": "a2046264-e7b8-4a2f-dbf6-975add6f5606"
      },
      "outputs": [
        {
          "name": "stdout",
          "output_type": "stream",
          "text": [
            "enter first number:50\n",
            "enter second number:70\n"
          ]
        },
        {
          "data": {
            "text/plain": [
              "120.0"
            ]
          },
          "execution_count": 19,
          "metadata": {},
          "output_type": "execute_result"
        }
      ],
      "source": [
        "num1=float(input(\"enter first number:\"))\n",
        "num2=float(input(\"enter second number:\"))\n",
        "sum=num1+num2\n",
        "sum"
      ]
    },
    {
      "cell_type": "code",
      "execution_count": null,
      "metadata": {
        "colab": {
          "base_uri": "https://localhost:8080/"
        },
        "id": "Q_Dmfo2PSTwO",
        "outputId": "6ad6e3bb-9b86-46ae-e76c-9233c1a10650"
      },
      "outputs": [
        {
          "name": "stdout",
          "output_type": "stream",
          "text": [
            "enter first number:25\n",
            "enter second number:25\n",
            "product is 625\n"
          ]
        }
      ],
      "source": [
        "num1=int(input(\"enter first number:\"))\n",
        "num2=int(input(\"enter second number:\"))\n",
        "mul=num1*num2\n",
        "print(\"product is\",mul)"
      ]
    },
    {
      "cell_type": "code",
      "execution_count": null,
      "metadata": {
        "colab": {
          "base_uri": "https://localhost:8080/"
        },
        "id": "EBpIHBdgSk7N",
        "outputId": "1e29cdea-19c5-47be-bb4f-241b8bb20473"
      },
      "outputs": [
        {
          "name": "stdout",
          "output_type": "stream",
          "text": [
            "enter any integer:89\n",
            "enter another integer:2\n",
            "product is 178.0\n"
          ]
        }
      ],
      "source": [
        "num1=int(input(\"enter any integer:\"))\n",
        "num2=float(input(\"enter another integer:\"))\n",
        "mul=num1*num2\n",
        "print(\"product is\",mul)\n"
      ]
    },
    {
      "cell_type": "markdown",
      "metadata": {
        "id": "Hy6i4LY9TrmF"
      },
      "source": [
        "# BOOLEAN\n"
      ]
    },
    {
      "cell_type": "code",
      "execution_count": null,
      "metadata": {
        "colab": {
          "base_uri": "https://localhost:8080/"
        },
        "id": "r80ktF34Tuhz",
        "outputId": "e04ff0d8-5c11-4c14-d360-d9b62e0846b4"
      },
      "outputs": [
        {
          "data": {
            "text/plain": [
              "False"
            ]
          },
          "execution_count": 23,
          "metadata": {},
          "output_type": "execute_result"
        }
      ],
      "source": [
        "20==30\n"
      ]
    },
    {
      "cell_type": "code",
      "execution_count": null,
      "metadata": {
        "colab": {
          "base_uri": "https://localhost:8080/"
        },
        "id": "rfn4-OJATwVr",
        "outputId": "1bc140b8-2579-48a5-9e1d-afafcf6161cb"
      },
      "outputs": [
        {
          "data": {
            "text/plain": [
              "False"
            ]
          },
          "execution_count": 24,
          "metadata": {},
          "output_type": "execute_result"
        }
      ],
      "source": [
        "30<20"
      ]
    },
    {
      "cell_type": "code",
      "execution_count": null,
      "metadata": {
        "colab": {
          "base_uri": "https://localhost:8080/"
        },
        "id": "9AMsi9_FTxug",
        "outputId": "2d0cbed5-71e7-4625-e5b1-e48c01ee8e24"
      },
      "outputs": [
        {
          "data": {
            "text/plain": [
              "True"
            ]
          },
          "execution_count": 25,
          "metadata": {},
          "output_type": "execute_result"
        }
      ],
      "source": [
        "30>20\n"
      ]
    },
    {
      "cell_type": "markdown",
      "metadata": {
        "id": "GYZRFDAgT-Ds"
      },
      "source": [
        "# Indentation\n"
      ]
    },
    {
      "cell_type": "code",
      "execution_count": null,
      "metadata": {
        "colab": {
          "base_uri": "https://localhost:8080/",
          "height": 106
        },
        "id": "UOOb5HmfUEGG",
        "outputId": "2acd6369-e849-49d7-9a5b-328d2d12b9d9"
      },
      "outputs": [
        {
          "ename": "IndentationError",
          "evalue": "unexpected indent (<ipython-input-26-af5ada2b054e>, line 2)",
          "output_type": "error",
          "traceback": [
            "\u001b[0;36m  File \u001b[0;32m\"<ipython-input-26-af5ada2b054e>\"\u001b[0;36m, line \u001b[0;32m2\u001b[0m\n\u001b[0;31m    print(a)\u001b[0m\n\u001b[0m    ^\u001b[0m\n\u001b[0;31mIndentationError\u001b[0m\u001b[0;31m:\u001b[0m unexpected indent\n"
          ]
        }
      ],
      "source": [
        "a=10\n",
        "    print(a)"
      ]
    },
    {
      "cell_type": "code",
      "execution_count": null,
      "metadata": {
        "colab": {
          "base_uri": "https://localhost:8080/"
        },
        "id": "QFjdZSutUJP4",
        "outputId": "ba06ec83-7dde-4e2d-b6d8-5ed0bed58527"
      },
      "outputs": [
        {
          "name": "stdout",
          "output_type": "stream",
          "text": [
            "10\n"
          ]
        }
      ],
      "source": [
        "a=10\n",
        "print(a)\n"
      ]
    },
    {
      "cell_type": "markdown",
      "metadata": {
        "id": "hjndM4FAlFsk"
      },
      "source": [
        "#MY SECOND LAB CLASS~"
      ]
    },
    {
      "cell_type": "markdown",
      "metadata": {
        "id": "-4QdamvgjJsq"
      },
      "source": [
        "# Arithmetic operators"
      ]
    },
    {
      "cell_type": "markdown",
      "metadata": {
        "id": "glWOu5KxjqkB"
      },
      "source": [
        "operations performed on any value to manipulate it and chnage its value\n"
      ]
    },
    {
      "cell_type": "code",
      "execution_count": null,
      "metadata": {
        "colab": {
          "base_uri": "https://localhost:8080/"
        },
        "id": "RAUi7ycMjxqH",
        "outputId": "a36d64a9-96d9-4a08-dcf5-90114bb8840e"
      },
      "outputs": [
        {
          "name": "stdout",
          "output_type": "stream",
          "text": [
            "15\n",
            "5\n",
            "50\n",
            "2.0\n",
            "0\n",
            "100000\n",
            "2\n"
          ]
        }
      ],
      "source": [
        "a=10\n",
        "b=5\n",
        "print(a+b)\n",
        "print(a-b)\n",
        "print(a*b)\n",
        "print(a/b)\n",
        "print(a%b)\n",
        "print(a**b)\n",
        "print(a//b)"
      ]
    },
    {
      "cell_type": "code",
      "execution_count": null,
      "metadata": {
        "colab": {
          "base_uri": "https://localhost:8080/"
        },
        "id": "RVX48rbHkMtu",
        "outputId": "f979f5f4-04f4-4c32-954c-c55951fbb422"
      },
      "outputs": [
        {
          "name": "stdout",
          "output_type": "stream",
          "text": [
            "5\n",
            "5.666666666666667\n"
          ]
        }
      ],
      "source": [
        "a=17\n",
        "b=3\n",
        "print(a//b)\n",
        "print(a/b)"
      ]
    },
    {
      "cell_type": "markdown",
      "metadata": {
        "id": "kaIwD8n5kx7G"
      },
      "source": [
        "the double slash gives only the quotient and removes the decimal part from it"
      ]
    },
    {
      "cell_type": "markdown",
      "metadata": {
        "id": "lBNnEagDlvbA"
      },
      "source": [
        "# Comparsion operators  \n"
      ]
    },
    {
      "cell_type": "code",
      "execution_count": null,
      "metadata": {
        "colab": {
          "base_uri": "https://localhost:8080/"
        },
        "id": "a4DK4e0xmo0E",
        "outputId": "eb518142-75c4-4d34-e91e-c9390e46e9f1"
      },
      "outputs": [
        {
          "name": "stdout",
          "output_type": "stream",
          "text": [
            "True\n",
            "False\n",
            "True\n",
            "False\n",
            "False\n",
            "True\n"
          ]
        }
      ],
      "source": [
        "a=10\n",
        "b=-(a)\n",
        "print(a>b)\n",
        "print(a<b)\n",
        "print(a>=b)\n",
        "print(a<=b)\n",
        "print(a==b)\n",
        "print(a!=b)"
      ]
    },
    {
      "cell_type": "markdown",
      "metadata": {
        "id": "utHoBLbQm_Vw"
      },
      "source": [
        "BITWISE LOGIC GATE(truth table)\n",
        "\n",
        "1.     AND(&),  OR(or),XOR(^)\n",
        "\n",
        "*   00 |  000\n",
        "*   01  | 011\n",
        "*   10   | 011\n",
        "*   11   | 110\n",
        "\n",
        "\n",
        "\n",
        "\n",
        "2.  XOR operator is (a^b)\n",
        "3. shift operator (<<)\n",
        "ex a<<4\n",
        "we convert a into binary and shift all the values to the left side.\n",
        "in right shift operator the vlaues are shifted forward in right direction whne converted in binary number system.\n",
        "//these are called bitwise shift operators\n",
        "// << shifts left\n",
        "// >> shifts right\n",
        "\n"
      ]
    },
    {
      "cell_type": "markdown",
      "metadata": {
        "id": "YxEmB72Xq9rt"
      },
      "source": [
        "# Logical Operators"
      ]
    },
    {
      "cell_type": "markdown",
      "metadata": {
        "id": "5OcE_rphrn6G"
      },
      "source": [
        "when we want a relation between two operands or expressions\n"
      ]
    },
    {
      "cell_type": "code",
      "execution_count": null,
      "metadata": {
        "colab": {
          "base_uri": "https://localhost:8080/"
        },
        "id": "XGSBKWMVruuD",
        "outputId": "0f9f3d66-760d-4c39-a659-f2241c7939eb"
      },
      "outputs": [
        {
          "name": "stdout",
          "output_type": "stream",
          "text": [
            "fail\n"
          ]
        }
      ],
      "source": [
        "a=10\n",
        "b=5\n",
        "if(a>b and a==b):\n",
        "    print(\"success\")\n",
        "else:\n",
        "    print(\"fail\")\n",
        "    #here and is a logical operator\n",
        "    #if we use or in place of and, it will also be a logical operator\n",
        "    #xor is also a logical operator than can be used"
      ]
    },
    {
      "cell_type": "markdown",
      "metadata": {
        "id": "fx-DttC-t9XE"
      },
      "source": [
        "Relation operator\n",
        "if we say\n",
        "a=10 and b=5\n",
        "and say c=a>b\n",
        "which is true, here c will store the relation as true this is referred to as a relational expression and operator"
      ]
    },
    {
      "cell_type": "markdown",
      "metadata": {
        "id": "NMe_DbrBuhsS"
      },
      "source": [
        "ques\n",
        "\n",
        "\n",
        "write a program to use input function and take two variables, store two numbers and ask the user what kind of arithmetic operator they wish to perform"
      ]
    },
    {
      "cell_type": "code",
      "execution_count": null,
      "metadata": {
        "colab": {
          "base_uri": "https://localhost:8080/"
        },
        "id": "S1q3dcGque8l",
        "outputId": "c48e41e0-5308-47dd-a404-dc5ce27137eb"
      },
      "outputs": [
        {
          "name": "stdout",
          "output_type": "stream",
          "text": [
            "enter any integer here:55\n",
            "enter another integer here:5\n",
            "enter the operator here:*\n",
            "the product is: 275\n"
          ]
        }
      ],
      "source": [
        "num1= int(input(\"enter any integer here:\"))\n",
        "num2=int(input(\"enter another integer here:\"))\n",
        "op=input(\"enter the operator here:\")\n",
        "if (op=='+'):\n",
        "    print(\"the sum is:\",num1+num2)\n",
        "elif(op=='-'):\n",
        "    print(\"the difference is:\",num1-num2)\n",
        "elif(op=='*'):\n",
        "    print(\"the product is:\",num1*num2)\n",
        "elif(op=='/'):\n",
        "    print(\"the quotient is:\",num1/num2)\n",
        "elif(op=='%'):\n",
        "    print(\"the remainder is\",num1%num2)"
      ]
    },
    {
      "cell_type": "code",
      "execution_count": null,
      "metadata": {
        "colab": {
          "base_uri": "https://localhost:8080/"
        },
        "id": "n345ema4xmuH",
        "outputId": "b0459db1-04b1-490e-e923-706551ca24cf"
      },
      "outputs": [
        {
          "data": {
            "text/plain": [
              "30"
            ]
          },
          "execution_count": 1,
          "metadata": {},
          "output_type": "execute_result"
        }
      ],
      "source": [
        "a=10\n",
        "b=a+a\n",
        "c=a+b\n",
        "a\n",
        "b\n",
        "c"
      ]
    },
    {
      "cell_type": "markdown",
      "metadata": {
        "id": "tvVTSv4OBNwZ"
      },
      "source": []
    },
    {
      "cell_type": "markdown",
      "metadata": {
        "id": "B5Gfta-zA__4"
      },
      "source": [
        "# CONTROL STATEMENTS"
      ]
    },
    {
      "cell_type": "markdown",
      "metadata": {
        "id": "qIhWQcWEBuhp"
      },
      "source": [
        "1. IF STATEMENT:\n",
        "syntax-\n",
        "\n",
        "if expression:\n",
        "\n",
        "   statements\n",
        "\n"
      ]
    },
    {
      "cell_type": "code",
      "execution_count": null,
      "metadata": {
        "colab": {
          "base_uri": "https://localhost:8080/"
        },
        "id": "Z2ixbgzqCOme",
        "outputId": "f6a6f05a-65a9-4218-fe4e-4972a9f2f290"
      },
      "outputs": [
        {
          "name": "stdout",
          "output_type": "stream",
          "text": [
            "hello\n",
            "done\n"
          ]
        }
      ],
      "source": [
        "x=10\n",
        "if x<=10:\n",
        "    print(\"hello\")\n",
        "    x=x+1\n",
        "print(\"done\")\n"
      ]
    },
    {
      "cell_type": "code",
      "execution_count": null,
      "metadata": {
        "colab": {
          "base_uri": "https://localhost:8080/"
        },
        "id": "c-vMMEvECx4S",
        "outputId": "0f91472e-2ea0-4cb5-8b63-5965eb764454"
      },
      "outputs": [
        {
          "name": "stdout",
          "output_type": "stream",
          "text": [
            "hello\n",
            "done\n"
          ]
        }
      ],
      "source": [
        "x=10\n",
        "if x>0:\n",
        "    print(\"hello\")\n",
        "    x=x+1\n",
        "print(\"done\")\n"
      ]
    },
    {
      "cell_type": "code",
      "execution_count": null,
      "metadata": {
        "colab": {
          "base_uri": "https://localhost:8080/"
        },
        "id": "kpPWLbd4DHET",
        "outputId": "0f9bf911-a61d-48ca-d9a0-d4305ce7da2f"
      },
      "outputs": [
        {
          "name": "stdout",
          "output_type": "stream",
          "text": [
            "Enter today's temperature:20\n",
            "It is a bit colder\n"
          ]
        }
      ],
      "source": [
        "temp=int(input(\"Enter today's temperature:\"))\n",
        "if temp >30:\n",
        "    print(\"It is a hot day\")\n",
        "    print(\"Drink plenty of water\")\n",
        "elif temp>20 and temp<=30:\n",
        "    print(\"It is a good day\")\n",
        "elif temp>10 and temp<=20:\n",
        "    print(\"It is a bit colder\")\n",
        "else:\n",
        "    print(\"Enjoy\")\n"
      ]
    },
    {
      "cell_type": "code",
      "execution_count": null,
      "metadata": {
        "colab": {
          "base_uri": "https://localhost:8080/"
        },
        "id": "zvI1vNEdEn2b",
        "outputId": "f1d3e436-8755-4fe0-ac2a-2f7cf4fd652b"
      },
      "outputs": [
        {
          "name": "stdout",
          "output_type": "stream",
          "text": [
            "Enter today's temperature:15\n",
            "It is a bit colder\n"
          ]
        }
      ],
      "source": [
        "temp=int(input(\"Enter today's temperature:\"))\n",
        "if temp >30:\n",
        "    print(\"It is a hot day\")\n",
        "    print(\"Drink plenty of water\")\n",
        "elif temp>20:\n",
        "    print(\"It is a good day\")\n",
        "elif temp>10:\n",
        "    print(\"It is a bit colder\")\n",
        "else:\n",
        "    print(\"Enjoy\")\n"
      ]
    },
    {
      "cell_type": "code",
      "execution_count": null,
      "metadata": {
        "colab": {
          "base_uri": "https://localhost:8080/"
        },
        "id": "xxD5tXvRFWhR",
        "outputId": "86419eb4-41a0-42e9-e5da-5bf36316e87c"
      },
      "outputs": [
        {
          "name": "stdout",
          "output_type": "stream",
          "text": [
            "Enter your weight: 53\n",
            "kgs/lbs :kgs\n",
            "Your weight in lbs is: 116.60000000000001\n"
          ]
        }
      ],
      "source": [
        "weight=int(input(\"Enter your weight: \"))\n",
        "unit=input(\"kgs/lbs :\")\n",
        "if unit=='kgs':\n",
        "    lbs=weight*2.2\n",
        "    print(\"Your weight in lbs is:\",lbs)\n",
        "else:\n",
        "   kgs=weight*0.45\n",
        "   print(\"your weight in kgs is:\",kgs)\n"
      ]
    },
    {
      "cell_type": "code",
      "execution_count": null,
      "metadata": {
        "colab": {
          "base_uri": "https://localhost:8080/"
        },
        "id": "9geYlEqoHDoV",
        "outputId": "ad45cdf3-2d64-4356-a67b-37b97cbcfde6"
      },
      "outputs": [
        {
          "name": "stdout",
          "output_type": "stream",
          "text": [
            "you get only three chances to guess the secret number\n"
          ]
        }
      ],
      "source": [
        "secret_num=4\n",
        "print(\"you get only three chances to guess the secret number\")\n",
        "a=int(input(\"guess the secret number:\"))\n",
        "if a==4:\n",
        "  print(\"You guessed it correct!\")\n",
        "else:\n",
        "  print(\"The guess was wrong you have two more chances~\")\n",
        "b=int(input(\"enter your second guess:\"))\n",
        "if b==4:\n",
        "  print(\"You guessed it right!\")\n",
        "else:\n",
        "  print(\"the guess was wrong you have one last chance:(\")\n",
        "c=int(input(\"enter your third guess:\"))\n",
        "if c==4:\n",
        "  print(\"Your guess was correct!!\")\n",
        "else:\n",
        "  print(\"Your guess was wrong, you lost your chances\")\n",
        "print(\"=====the guessing game is over=====\")"
      ]
    },
    {
      "cell_type": "code",
      "execution_count": null,
      "metadata": {
        "colab": {
          "base_uri": "https://localhost:8080/"
        },
        "id": "ru0V0nOcKuzh",
        "outputId": "8da4f55a-b1bf-4f1f-a16b-6e170cf3958f"
      },
      "outputs": [
        {
          "name": "stdout",
          "output_type": "stream",
          "text": [
            "Hello Everyone !!!\n",
            "hello\n",
            "world\n",
            "hello\n",
            "          world\n",
            "'Rohit’ s date of birth is 12\u0005\u0001999'\n"
          ]
        }
      ],
      "source": [
        "#A)\n",
        "print(\"Hello Everyone !!!\")\n",
        "#B)\n",
        "print(\"hello\\nworld\")\n",
        "#c)\n",
        "print(\"hello\\n          world\")\n",
        "#D)\n",
        "print(\"'Rohit’ s date of birth is 12\\05\\1999'\")"
      ]
    },
    {
      "cell_type": "code",
      "execution_count": null,
      "metadata": {
        "id": "qBwa_uicLmib"
      },
      "outputs": [],
      "source": []
    },
    {
      "cell_type": "markdown",
      "metadata": {
        "id": "mFEzp7Vum6VZ"
      },
      "source": [
        "# LOOPS\n"
      ]
    },
    {
      "cell_type": "markdown",
      "metadata": {
        "id": "rCakba1wUeiG"
      },
      "source": []
    },
    {
      "cell_type": "code",
      "execution_count": null,
      "metadata": {
        "colab": {
          "base_uri": "https://localhost:8080/"
        },
        "id": "E_ESU-1AW5no",
        "outputId": "b576d123-5b96-4041-af16-97dfe2e7f56d"
      },
      "outputs": [
        {
          "name": "stdout",
          "output_type": "stream",
          "text": [
            "enter the guess12\n",
            "try again\n",
            "enter the guess15\n",
            "try again\n",
            "enter the guess14\n",
            "success\n"
          ]
        }
      ],
      "source": [
        "sec_num=14\n",
        "guess_count=3\n",
        "counter=0\n",
        "\n",
        "while counter<guess_count:\n",
        "  num=int(input(\"enter the guess\"))\n",
        "  if num==sec_num:\n",
        "    print(\"success\")\n",
        "    break\n",
        "  else:\n",
        "    print(\"try again\")"
      ]
    },
    {
      "cell_type": "code",
      "execution_count": null,
      "metadata": {
        "colab": {
          "background_save": true,
          "base_uri": "https://localhost:8080/"
        },
        "id": "JhWIZPDXXlZh",
        "outputId": "9c8a8e97-d201-4545-99f3-ada4d862b12b"
      },
      "outputs": [
        {
          "name": "stdout",
          "output_type": "stream",
          "text": [
            "Enter 1 to start\n",
            "enter 2 to stop\n",
            "enter 3 to quit\n",
            "enter 4 to help\n"
          ]
        }
      ],
      "source": [
        "print(\"Enter 1 to start\")\n",
        "print(\"enter 2 to stop\")\n",
        "print(\"enter 3 to quit\")\n",
        "print(\"enter 4 to help\")\n",
        "a=int(input(\"enter command\"))\n",
        "while a!=3:\n",
        "  a=int(input(\"enter command\"))\n",
        "  if a==3:\n",
        "    print(\"quitting\")\n",
        "    break\n",
        "  elif a==1:\n",
        "    print(\"starting\")\n",
        "  elif a==2:\n",
        "    print(\"stopping\")\n",
        "  elif a==4:\n",
        "    print(\"helping\")\n"
      ]
    },
    {
      "cell_type": "code",
      "execution_count": null,
      "metadata": {
        "id": "2JbEm1E4a9jX"
      },
      "outputs": [],
      "source": []
    },
    {
      "cell_type": "markdown",
      "source": [
        "# LISTS\n"
      ],
      "metadata": {
        "id": "_Y45jEuQX1b0"
      }
    },
    {
      "cell_type": "markdown",
      "source": [
        "L1=[1,2,3,4,5]\n",
        "index of a list is always zero.\n",
        "the following components would be named as 0,1,2,3,4\n"
      ],
      "metadata": {
        "id": "bqFO5gmTX6fp"
      }
    },
    {
      "cell_type": "code",
      "source": [
        "l1=[1,2,3,4,5,6,7,8,9,10]\n",
        "print(l1[2])\n",
        "print(l1[-3])\n",
        "#if we want order from reverse, it would go as -5,-4,-3,-2,-1\n",
        "print(l1[2:8])\n"
      ],
      "metadata": {
        "colab": {
          "base_uri": "https://localhost:8080/"
        },
        "id": "-H4vw2Y4YK4f",
        "outputId": "8d384cc9-bbdf-4b96-b947-4c0ca8d0ba09"
      },
      "execution_count": 2,
      "outputs": [
        {
          "output_type": "stream",
          "name": "stdout",
          "text": [
            "3\n",
            "8\n",
            "[3, 4, 5, 6, 7, 8]\n"
          ]
        }
      ]
    },
    {
      "cell_type": "code",
      "source": [
        "#if we write double colons\n",
        "#[::]\n",
        "#[start:step:step size]"
      ],
      "metadata": {
        "id": "YJ-gFtZwYjCt"
      },
      "execution_count": null,
      "outputs": []
    },
    {
      "cell_type": "code",
      "source": [
        "a = [\"apple\", \"banana\", \"cherry\"]\n",
        "b = [\"Ford\", \"BMW\", \"Volvo\"]\n",
        "a.append(b)\n",
        "print(a)\n"
      ],
      "metadata": {
        "colab": {
          "base_uri": "https://localhost:8080/"
        },
        "id": "wqsr9ub8cn9p",
        "outputId": "62573898-769d-4a32-e62e-11cf5bd421c9"
      },
      "execution_count": 4,
      "outputs": [
        {
          "output_type": "stream",
          "name": "stdout",
          "text": [
            "['apple', 'banana', 'cherry', ['Ford', 'BMW', 'Volvo']]\n"
          ]
        }
      ]
    },
    {
      "cell_type": "code",
      "source": [
        "thislist = [\"apple\", \"banana\", \"cherry\"]\n",
        "thislist.insert(1, \"orange\")\n",
        "print(thislist)"
      ],
      "metadata": {
        "colab": {
          "base_uri": "https://localhost:8080/"
        },
        "id": "aWdYZgffdHiE",
        "outputId": "1d288abe-7a54-4f74-9140-53edae24b296"
      },
      "execution_count": 5,
      "outputs": [
        {
          "output_type": "stream",
          "name": "stdout",
          "text": [
            "['apple', 'orange', 'banana', 'cherry']\n"
          ]
        }
      ]
    },
    {
      "cell_type": "code",
      "source": [
        "thislist = [\"apple\", \"banana\", \"cherry\"]\n",
        "tropical = [\"mango\", \"pineapple\", \"papaya\"]\n",
        "thislist.extend(tropical)\n",
        "print(thislist)"
      ],
      "metadata": {
        "colab": {
          "base_uri": "https://localhost:8080/"
        },
        "id": "ZYs2UYBqefOj",
        "outputId": "276c7b56-5395-491c-8338-66fad416cf84"
      },
      "execution_count": 6,
      "outputs": [
        {
          "output_type": "stream",
          "name": "stdout",
          "text": [
            "['apple', 'banana', 'cherry', 'mango', 'pineapple', 'papaya']\n"
          ]
        }
      ]
    },
    {
      "cell_type": "code",
      "source": [
        "thislist = [\"apple\", \"banana\", \"cherry\"]\n",
        "thislist.remove(\"banana\")\n",
        "print(thislist)"
      ],
      "metadata": {
        "colab": {
          "base_uri": "https://localhost:8080/"
        },
        "id": "hEFRsg3JekVm",
        "outputId": "93b19b33-5fd3-471b-fe64-28e9bf76cbb9"
      },
      "execution_count": 7,
      "outputs": [
        {
          "output_type": "stream",
          "name": "stdout",
          "text": [
            "['apple', 'cherry']\n"
          ]
        }
      ]
    },
    {
      "cell_type": "code",
      "source": [
        "thislist = [\"apple\", \"banana\", \"cherry\"]\n",
        "thislist.pop(1)\n",
        "print(thislist)\n",
        "#removes specified index"
      ],
      "metadata": {
        "colab": {
          "base_uri": "https://localhost:8080/"
        },
        "id": "iUpc7ZBpep6N",
        "outputId": "67b626ce-49bd-450c-d390-865a9a4e3e72"
      },
      "execution_count": 8,
      "outputs": [
        {
          "output_type": "stream",
          "name": "stdout",
          "text": [
            "['apple', 'cherry']\n"
          ]
        }
      ]
    },
    {
      "cell_type": "code",
      "source": [
        "thislist = [\"apple\", \"banana\", \"cherry\"]\n",
        "del thislist[0]\n",
        "print(thislist)"
      ],
      "metadata": {
        "colab": {
          "base_uri": "https://localhost:8080/"
        },
        "id": "A8YtpVtzeuED",
        "outputId": "a0df435f-e87c-4127-d232-e477c09bdedb"
      },
      "execution_count": 9,
      "outputs": [
        {
          "output_type": "stream",
          "name": "stdout",
          "text": [
            "['banana', 'cherry']\n"
          ]
        }
      ]
    },
    {
      "cell_type": "code",
      "source": [
        "thislist = [\"apple\", \"banana\", \"cherry\"]\n",
        "del thislist"
      ],
      "metadata": {
        "id": "E7pIb6yle6iF"
      },
      "execution_count": 10,
      "outputs": []
    },
    {
      "cell_type": "code",
      "source": [
        "a=list((1,2,3,4,\"abc\",'a',7.5))\n",
        "print(a)"
      ],
      "metadata": {
        "colab": {
          "base_uri": "https://localhost:8080/"
        },
        "id": "vF8ZzNmde9lS",
        "outputId": "7b8a5c9b-6960-437d-b6e0-46a364920cf7"
      },
      "execution_count": 11,
      "outputs": [
        {
          "output_type": "stream",
          "name": "stdout",
          "text": [
            "[1, 2, 3, 4, 'abc', 'a', 7.5]\n"
          ]
        }
      ]
    },
    {
      "cell_type": "code",
      "source": [],
      "metadata": {
        "id": "GqJ-Mh2xh8Mp"
      },
      "execution_count": null,
      "outputs": []
    }
  ],
  "metadata": {
    "colab": {
      "toc_visible": true,
      "provenance": [],
      "authorship_tag": "ABX9TyM/Sv2W8xNrMAa8ZkipmdzQ",
      "include_colab_link": true
    },
    "kernelspec": {
      "display_name": "Python 3",
      "name": "python3"
    },
    "language_info": {
      "name": "python"
    }
  },
  "nbformat": 4,
  "nbformat_minor": 0
}