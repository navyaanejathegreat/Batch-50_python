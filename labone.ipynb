{
  "nbformat": 4,
  "nbformat_minor": 0,
  "metadata": {
    "colab": {
      "provenance": [],
      "toc_visible": true,
      "authorship_tag": "ABX9TyPhZTMDQzSTQLretRANW2Kg",
      "include_colab_link": true
    },
    "kernelspec": {
      "name": "python3",
      "display_name": "Python 3"
    },
    "language_info": {
      "name": "python"
    }
  },
  "cells": [
    {
      "cell_type": "markdown",
      "metadata": {
        "id": "view-in-github",
        "colab_type": "text"
      },
      "source": [
        "<a href=\"https://colab.research.google.com/github/navyaanejathegreat/Batch-50_python/blob/main/labone.ipynb\" target=\"_parent\"><img src=\"https://colab.research.google.com/assets/colab-badge.svg\" alt=\"Open In Colab\"/></a>"
      ]
    },
    {
      "cell_type": "code",
      "source": [
        "#welcome to my first lab"
      ],
      "metadata": {
        "id": "tYGQyp8qJgyd"
      },
      "execution_count": null,
      "outputs": []
    },
    {
      "cell_type": "code",
      "source": [
        "print(\"welcome to my first lab!\")\n",
        "a=10.5\n",
        "print(type(a))\n"
      ],
      "metadata": {
        "colab": {
          "base_uri": "https://localhost:8080/"
        },
        "id": "DBozF_VgJm7l",
        "outputId": "119d489a-0db9-496c-83df-75aad541c0b5"
      },
      "execution_count": null,
      "outputs": [
        {
          "output_type": "stream",
          "name": "stdout",
          "text": [
            "welcome to my first lab!\n",
            "<class 'float'>\n"
          ]
        }
      ]
    },
    {
      "cell_type": "code",
      "source": [
        "print(\"navyaanejathegreat\")"
      ],
      "metadata": {
        "colab": {
          "base_uri": "https://localhost:8080/"
        },
        "id": "bGOl0BT-LqUu",
        "outputId": "cfb03159-9419-4120-9c2e-c2bd86a92a1c"
      },
      "execution_count": null,
      "outputs": [
        {
          "output_type": "stream",
          "name": "stdout",
          "text": [
            "navyaanejathegreat\n"
          ]
        }
      ]
    },
    {
      "cell_type": "markdown",
      "source": [
        "# STATEMENTS\n"
      ],
      "metadata": {
        "id": "lH5Fm6SpMS-G"
      }
    },
    {
      "cell_type": "code",
      "source": [
        "a=18+18\n",
        "#this is a single line statement\n",
        "print(a)\n",
        "a=10+10+\\\n",
        "    20+20+20+\\\n",
        "    30+20+10\n",
        "    #this is a multi line statement\n",
        "print(a)\n"
      ],
      "metadata": {
        "colab": {
          "base_uri": "https://localhost:8080/"
        },
        "id": "EZ9HtY2jNkS8",
        "outputId": "0a2fe786-ee1f-4bc8-b937-6005701f3235"
      },
      "execution_count": null,
      "outputs": [
        {
          "output_type": "stream",
          "name": "stdout",
          "text": [
            "36\n",
            "140\n"
          ]
        }
      ]
    },
    {
      "cell_type": "code",
      "source": [
        "a=\"navya\"\n",
        "print(a)\n",
        "a=\"navya\"+\\\n",
        "\"aneja\"+\\\n",
        "\"the\"+\\\n",
        "\"great\"\n",
        "print(a)\n"
      ],
      "metadata": {
        "colab": {
          "base_uri": "https://localhost:8080/"
        },
        "id": "iGiiGoZ9OB0r",
        "outputId": "68333e92-7d56-4c7e-90de-1008bc829f90"
      },
      "execution_count": null,
      "outputs": [
        {
          "output_type": "stream",
          "name": "stdout",
          "text": [
            "navya\n",
            "navyaanejathegreat\n"
          ]
        }
      ]
    },
    {
      "cell_type": "code",
      "source": [
        "l1=['a',\n",
        "    'e',\n",
        "    'i',\n",
        "    'o',\n",
        "    'u'\n",
        "    ]\n",
        "l1\n"
      ],
      "metadata": {
        "colab": {
          "base_uri": "https://localhost:8080/"
        },
        "id": "q53uKBkCOnoM",
        "outputId": "f6430aba-074e-4179-8faa-6ffba5916432"
      },
      "execution_count": null,
      "outputs": [
        {
          "output_type": "execute_result",
          "data": {
            "text/plain": [
              "['a', 'e', 'i', 'o', 'u']"
            ]
          },
          "metadata": {},
          "execution_count": 12
        }
      ]
    },
    {
      "cell_type": "code",
      "source": [
        "mystring=\"'my name is navya aneja' \\n 'i am a student at upes'\""
      ],
      "metadata": {
        "id": "EG-ZaP4jP2E1"
      },
      "execution_count": null,
      "outputs": []
    },
    {
      "cell_type": "code",
      "source": [
        "mystring=\"'my name is navya aneja' \\n 'i am a student at upes'\""
      ],
      "metadata": {
        "id": "dCXoO5coQXAi"
      },
      "execution_count": null,
      "outputs": []
    },
    {
      "cell_type": "code",
      "source": [],
      "metadata": {
        "id": "Yt_WIqYxQ4Z6"
      },
      "execution_count": null,
      "outputs": []
    },
    {
      "cell_type": "markdown",
      "source": [
        "# Input function\n"
      ],
      "metadata": {
        "id": "48TosjE5Q9dg"
      }
    },
    {
      "cell_type": "code",
      "source": [
        "num1=int(input(\"enter first number:\"))\n",
        "num2=int(input(\"enter second number:\"))\n",
        "sum=num1+num2\n",
        "sum"
      ],
      "metadata": {
        "colab": {
          "base_uri": "https://localhost:8080/"
        },
        "id": "RGhAQiOdRGsD",
        "outputId": "157b1d12-5e35-4ce5-bdfc-bd78c0d53733"
      },
      "execution_count": null,
      "outputs": [
        {
          "name": "stdout",
          "output_type": "stream",
          "text": [
            "enter first number:2\n",
            "enter second number:3\n"
          ]
        },
        {
          "output_type": "execute_result",
          "data": {
            "text/plain": [
              "5"
            ]
          },
          "metadata": {},
          "execution_count": 18
        }
      ]
    },
    {
      "cell_type": "code",
      "source": [
        "num1=float(input(\"enter first number:\"))\n",
        "num2=float(input(\"enter second number:\"))\n",
        "sum=num1+num2\n",
        "sum"
      ],
      "metadata": {
        "colab": {
          "base_uri": "https://localhost:8080/"
        },
        "id": "yxWniSe4RWNH",
        "outputId": "a2046264-e7b8-4a2f-dbf6-975add6f5606"
      },
      "execution_count": null,
      "outputs": [
        {
          "name": "stdout",
          "output_type": "stream",
          "text": [
            "enter first number:50\n",
            "enter second number:70\n"
          ]
        },
        {
          "output_type": "execute_result",
          "data": {
            "text/plain": [
              "120.0"
            ]
          },
          "metadata": {},
          "execution_count": 19
        }
      ]
    },
    {
      "cell_type": "code",
      "source": [
        "num1=int(input(\"enter first number:\"))\n",
        "num2=int(input(\"enter second number:\"))\n",
        "mul=num1*num2\n",
        "print(\"product is\",mul)"
      ],
      "metadata": {
        "colab": {
          "base_uri": "https://localhost:8080/"
        },
        "id": "Q_Dmfo2PSTwO",
        "outputId": "6ad6e3bb-9b86-46ae-e76c-9233c1a10650"
      },
      "execution_count": null,
      "outputs": [
        {
          "output_type": "stream",
          "name": "stdout",
          "text": [
            "enter first number:25\n",
            "enter second number:25\n",
            "product is 625\n"
          ]
        }
      ]
    },
    {
      "cell_type": "code",
      "source": [
        "num1=int(input(\"enter any integer:\"))\n",
        "num2=float(input(\"enter another integer:\"))\n",
        "mul=num1*num2\n",
        "print(\"product is\",mul)\n"
      ],
      "metadata": {
        "colab": {
          "base_uri": "https://localhost:8080/"
        },
        "id": "EBpIHBdgSk7N",
        "outputId": "1e29cdea-19c5-47be-bb4f-241b8bb20473"
      },
      "execution_count": null,
      "outputs": [
        {
          "output_type": "stream",
          "name": "stdout",
          "text": [
            "enter any integer:89\n",
            "enter another integer:2\n",
            "product is 178.0\n"
          ]
        }
      ]
    },
    {
      "cell_type": "markdown",
      "source": [
        "# BOOLEAN\n"
      ],
      "metadata": {
        "id": "Hy6i4LY9TrmF"
      }
    },
    {
      "cell_type": "code",
      "source": [
        "20==30\n"
      ],
      "metadata": {
        "colab": {
          "base_uri": "https://localhost:8080/"
        },
        "id": "r80ktF34Tuhz",
        "outputId": "e04ff0d8-5c11-4c14-d360-d9b62e0846b4"
      },
      "execution_count": null,
      "outputs": [
        {
          "output_type": "execute_result",
          "data": {
            "text/plain": [
              "False"
            ]
          },
          "metadata": {},
          "execution_count": 23
        }
      ]
    },
    {
      "cell_type": "code",
      "source": [
        "30<20"
      ],
      "metadata": {
        "colab": {
          "base_uri": "https://localhost:8080/"
        },
        "id": "rfn4-OJATwVr",
        "outputId": "1bc140b8-2579-48a5-9e1d-afafcf6161cb"
      },
      "execution_count": null,
      "outputs": [
        {
          "output_type": "execute_result",
          "data": {
            "text/plain": [
              "False"
            ]
          },
          "metadata": {},
          "execution_count": 24
        }
      ]
    },
    {
      "cell_type": "code",
      "source": [
        "30>20\n"
      ],
      "metadata": {
        "colab": {
          "base_uri": "https://localhost:8080/"
        },
        "id": "9AMsi9_FTxug",
        "outputId": "2d0cbed5-71e7-4625-e5b1-e48c01ee8e24"
      },
      "execution_count": null,
      "outputs": [
        {
          "output_type": "execute_result",
          "data": {
            "text/plain": [
              "True"
            ]
          },
          "metadata": {},
          "execution_count": 25
        }
      ]
    },
    {
      "cell_type": "markdown",
      "source": [
        "# Indentation\n"
      ],
      "metadata": {
        "id": "GYZRFDAgT-Ds"
      }
    },
    {
      "cell_type": "code",
      "source": [
        "a=10\n",
        "    print(a)"
      ],
      "metadata": {
        "colab": {
          "base_uri": "https://localhost:8080/",
          "height": 106
        },
        "id": "UOOb5HmfUEGG",
        "outputId": "2acd6369-e849-49d7-9a5b-328d2d12b9d9"
      },
      "execution_count": null,
      "outputs": [
        {
          "output_type": "error",
          "ename": "IndentationError",
          "evalue": "unexpected indent (<ipython-input-26-af5ada2b054e>, line 2)",
          "traceback": [
            "\u001b[0;36m  File \u001b[0;32m\"<ipython-input-26-af5ada2b054e>\"\u001b[0;36m, line \u001b[0;32m2\u001b[0m\n\u001b[0;31m    print(a)\u001b[0m\n\u001b[0m    ^\u001b[0m\n\u001b[0;31mIndentationError\u001b[0m\u001b[0;31m:\u001b[0m unexpected indent\n"
          ]
        }
      ]
    },
    {
      "cell_type": "code",
      "source": [
        "a=10\n",
        "print(a)\n"
      ],
      "metadata": {
        "colab": {
          "base_uri": "https://localhost:8080/"
        },
        "id": "QFjdZSutUJP4",
        "outputId": "ba06ec83-7dde-4e2d-b6d8-5ed0bed58527"
      },
      "execution_count": null,
      "outputs": [
        {
          "output_type": "stream",
          "name": "stdout",
          "text": [
            "10\n"
          ]
        }
      ]
    },
    {
      "cell_type": "markdown",
      "source": [
        "#MY SECOND LAB CLASS~"
      ],
      "metadata": {
        "id": "hjndM4FAlFsk"
      }
    },
    {
      "cell_type": "markdown",
      "source": [
        "# Arithmetic operators"
      ],
      "metadata": {
        "id": "-4QdamvgjJsq"
      }
    },
    {
      "cell_type": "markdown",
      "source": [
        "operations performed on any value to manipulate it and chnage its value\n"
      ],
      "metadata": {
        "id": "glWOu5KxjqkB"
      }
    },
    {
      "cell_type": "code",
      "source": [
        "a=10\n",
        "b=5\n",
        "print(a+b)\n",
        "print(a-b)\n",
        "print(a*b)\n",
        "print(a/b)\n",
        "print(a%b)\n",
        "print(a**b)\n",
        "print(a//b)"
      ],
      "metadata": {
        "colab": {
          "base_uri": "https://localhost:8080/"
        },
        "id": "RAUi7ycMjxqH",
        "outputId": "a36d64a9-96d9-4a08-dcf5-90114bb8840e"
      },
      "execution_count": 1,
      "outputs": [
        {
          "output_type": "stream",
          "name": "stdout",
          "text": [
            "15\n",
            "5\n",
            "50\n",
            "2.0\n",
            "0\n",
            "100000\n",
            "2\n"
          ]
        }
      ]
    },
    {
      "cell_type": "code",
      "source": [
        "a=17\n",
        "b=3\n",
        "print(a//b)\n",
        "print(a/b)"
      ],
      "metadata": {
        "colab": {
          "base_uri": "https://localhost:8080/"
        },
        "id": "RVX48rbHkMtu",
        "outputId": "f979f5f4-04f4-4c32-954c-c55951fbb422"
      },
      "execution_count": 4,
      "outputs": [
        {
          "output_type": "stream",
          "name": "stdout",
          "text": [
            "5\n",
            "5.666666666666667\n"
          ]
        }
      ]
    },
    {
      "cell_type": "markdown",
      "source": [
        "the double slash gives only the quotient and removes the decimal part from it"
      ],
      "metadata": {
        "id": "kaIwD8n5kx7G"
      }
    },
    {
      "cell_type": "markdown",
      "source": [
        "# Comparsion operators  \n"
      ],
      "metadata": {
        "id": "lBNnEagDlvbA"
      }
    },
    {
      "cell_type": "code",
      "source": [],
      "metadata": {
        "id": "cyB8d0KQk4W7"
      },
      "execution_count": null,
      "outputs": []
    }
  ]
}